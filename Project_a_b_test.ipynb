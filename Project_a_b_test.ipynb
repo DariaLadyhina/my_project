{
 "cells": [
  {
   "cell_type": "markdown",
   "id": "5c9d3e02-4305-4080-86f2-3d0105ef1fb8",
   "metadata": {},
   "source": [
    "Exploratory Data Analysis (EDA)\n",
    "Крок 1:\n",
    "Спочатку ми імпортуємо необхідні бібліотеки для обробки даних, візуалізації та статистичного тестування"
   ]
  },
  {
   "cell_type": "code",
   "execution_count": 1,
   "id": "65fb6d79-4e54-479f-959a-ad2db6589410",
   "metadata": {
    "editable": true,
    "execution": {
     "iopub.execute_input": "2025-09-12T09:40:26.988470Z",
     "iopub.status.busy": "2025-09-12T09:40:26.988470Z",
     "iopub.status.idle": "2025-09-12T09:40:32.796980Z",
     "shell.execute_reply": "2025-09-12T09:40:32.795985Z",
     "shell.execute_reply.started": "2025-09-12T09:40:26.988470Z"
    },
    "slideshow": {
     "slide_type": ""
    },
    "tags": []
   },
   "outputs": [],
   "source": [
    "# Сторонні бібліотеки\n",
    "import matplotlib.pyplot as plt\n",
    "import numpy as np\n",
    "import pandas as pd\n",
    "import seaborn as sns\n",
    "\n",
    "from scipy import stats\n",
    "from sqlalchemy import create_engine\n",
    "from statsmodels.stats.proportion import proportion_confint\n",
    "from statsmodels.stats.proportion import proportions_ztest\n",
    "\n",
    "# Внутрішні модулі\n",
    "from configs import PASSWORD"
   ]
  },
  {
   "cell_type": "markdown",
   "id": "3139f59c-3e9d-4438-ac81-cc522f16ae73",
   "metadata": {},
   "source": [
    "Крок 2:\n",
    "Потім завантажуємо датасет A\\B test pandas DataFrame для аналізу"
   ]
  },
  {
   "cell_type": "code",
   "execution_count": 2,
   "id": "95c86d64-17f0-4c8b-b13c-09065e15a096",
   "metadata": {
    "execution": {
     "iopub.execute_input": "2025-09-12T09:40:33.963542Z",
     "iopub.status.busy": "2025-09-12T09:40:33.963542Z",
     "iopub.status.idle": "2025-09-12T09:40:33.980173Z",
     "shell.execute_reply": "2025-09-12T09:40:33.978939Z",
     "shell.execute_reply.started": "2025-09-12T09:40:33.963542Z"
    }
   },
   "outputs": [],
   "source": [
    "# Шлях до файлу\n",
    "file_path = r\"E:\\anaconda\\envs\\pydata-book\\ab_test_dataset_v16.xlsx\""
   ]
  },
  {
   "cell_type": "markdown",
   "id": "10fd9a20-5e3a-4259-ab33-20534cdf66aa",
   "metadata": {},
   "source": [
    "За допомогою функції **load_excel_sheets** переглядаємо назви всіх листів нашого датасету"
   ]
  },
  {
   "cell_type": "code",
   "execution_count": 3,
   "id": "848b00dc-01d3-46dc-b496-7912a60edf45",
   "metadata": {
    "execution": {
     "iopub.execute_input": "2025-09-12T09:40:38.301458Z",
     "iopub.status.busy": "2025-09-12T09:40:38.300462Z",
     "iopub.status.idle": "2025-09-12T09:40:57.123378Z",
     "shell.execute_reply": "2025-09-12T09:40:57.121267Z",
     "shell.execute_reply.started": "2025-09-12T09:40:38.301458Z"
    }
   },
   "outputs": [
    {
     "data": {
      "text/plain": [
       "dict_keys(['device', 'country', 'group', 'user', 'daily'])"
      ]
     },
     "execution_count": 3,
     "metadata": {},
     "output_type": "execute_result"
    }
   ],
   "source": [
    "def load_excel_sheets(file_path):\n",
    "    xls = pd.ExcelFile(file_path)\n",
    "    sheets = {}\n",
    "    for name in xls.sheet_names:\n",
    "        sheets[name] = pd.read_excel(xls, sheet_name=name)\n",
    "    return sheets\n",
    "\n",
    "all_sheets = load_excel_sheets(file_path)\n",
    "all_sheets.keys()"
   ]
  },
  {
   "cell_type": "markdown",
   "id": "7d3da808-d36b-411a-a2b7-11697f1bf93e",
   "metadata": {},
   "source": [
    " Збереження кожного листа в змінну"
   ]
  },
  {
   "cell_type": "code",
   "execution_count": 4,
   "id": "e26d8626-a9dc-4598-9537-39044552d4ee",
   "metadata": {
    "execution": {
     "iopub.execute_input": "2025-09-12T09:40:59.646484Z",
     "iopub.status.busy": "2025-09-12T09:40:59.645486Z",
     "iopub.status.idle": "2025-09-12T09:40:59.669245Z",
     "shell.execute_reply": "2025-09-12T09:40:59.667190Z",
     "shell.execute_reply.started": "2025-09-12T09:40:59.646484Z"
    }
   },
   "outputs": [],
   "source": [
    "device_df = all_sheets[\"device\"]\n",
    "country_df = all_sheets[\"country\"]\n",
    "group_df = all_sheets[\"group\"]\n",
    "user_df = all_sheets[\"user\"]\n",
    "daily_df = all_sheets[\"daily\"]"
   ]
  },
  {
   "cell_type": "code",
   "execution_count": 5,
   "id": "0a853c18-6d1e-4433-b221-74c0c974b6c4",
   "metadata": {
    "execution": {
     "iopub.execute_input": "2025-09-12T09:41:02.967852Z",
     "iopub.status.busy": "2025-09-12T09:41:02.966854Z",
     "iopub.status.idle": "2025-09-12T09:41:03.000105Z",
     "shell.execute_reply": "2025-09-12T09:41:02.998626Z",
     "shell.execute_reply.started": "2025-09-12T09:41:02.967852Z"
    }
   },
   "outputs": [
    {
     "data": {
      "text/html": [
       "<div>\n",
       "<style scoped>\n",
       "    .dataframe tbody tr th:only-of-type {\n",
       "        vertical-align: middle;\n",
       "    }\n",
       "\n",
       "    .dataframe tbody tr th {\n",
       "        vertical-align: top;\n",
       "    }\n",
       "\n",
       "    .dataframe thead th {\n",
       "        text-align: right;\n",
       "    }\n",
       "</style>\n",
       "<table border=\"1\" class=\"dataframe\">\n",
       "  <thead>\n",
       "    <tr style=\"text-align: right;\">\n",
       "      <th></th>\n",
       "      <th>device_id</th>\n",
       "      <th>device_name</th>\n",
       "    </tr>\n",
       "  </thead>\n",
       "  <tbody>\n",
       "    <tr>\n",
       "      <th>0</th>\n",
       "      <td>1</td>\n",
       "      <td>Desktop</td>\n",
       "    </tr>\n",
       "    <tr>\n",
       "      <th>1</th>\n",
       "      <td>2</td>\n",
       "      <td>Mobile</td>\n",
       "    </tr>\n",
       "    <tr>\n",
       "      <th>2</th>\n",
       "      <td>3</td>\n",
       "      <td>Smartwatch</td>\n",
       "    </tr>\n",
       "    <tr>\n",
       "      <th>3</th>\n",
       "      <td>4</td>\n",
       "      <td>TV</td>\n",
       "    </tr>\n",
       "    <tr>\n",
       "      <th>4</th>\n",
       "      <td>5</td>\n",
       "      <td>Tablet</td>\n",
       "    </tr>\n",
       "  </tbody>\n",
       "</table>\n",
       "</div>"
      ],
      "text/plain": [
       "   device_id device_name\n",
       "0          1     Desktop\n",
       "1          2      Mobile\n",
       "2          3  Smartwatch\n",
       "3          4          TV\n",
       "4          5      Tablet"
      ]
     },
     "execution_count": 5,
     "metadata": {},
     "output_type": "execute_result"
    }
   ],
   "source": [
    "device_df.head()"
   ]
  },
  {
   "cell_type": "code",
   "execution_count": 6,
   "id": "b74e4737-a6f3-4939-934c-1383972eea9a",
   "metadata": {
    "execution": {
     "iopub.execute_input": "2025-09-12T09:41:04.569961Z",
     "iopub.status.busy": "2025-09-12T09:41:04.569961Z",
     "iopub.status.idle": "2025-09-12T09:41:04.587138Z",
     "shell.execute_reply": "2025-09-12T09:41:04.586136Z",
     "shell.execute_reply.started": "2025-09-12T09:41:04.569961Z"
    }
   },
   "outputs": [
    {
     "data": {
      "text/html": [
       "<div>\n",
       "<style scoped>\n",
       "    .dataframe tbody tr th:only-of-type {\n",
       "        vertical-align: middle;\n",
       "    }\n",
       "\n",
       "    .dataframe tbody tr th {\n",
       "        vertical-align: top;\n",
       "    }\n",
       "\n",
       "    .dataframe thead th {\n",
       "        text-align: right;\n",
       "    }\n",
       "</style>\n",
       "<table border=\"1\" class=\"dataframe\">\n",
       "  <thead>\n",
       "    <tr style=\"text-align: right;\">\n",
       "      <th></th>\n",
       "      <th>country_id</th>\n",
       "      <th>country_code</th>\n",
       "    </tr>\n",
       "  </thead>\n",
       "  <tbody>\n",
       "    <tr>\n",
       "      <th>0</th>\n",
       "      <td>1</td>\n",
       "      <td>BR</td>\n",
       "    </tr>\n",
       "    <tr>\n",
       "      <th>1</th>\n",
       "      <td>2</td>\n",
       "      <td>DE</td>\n",
       "    </tr>\n",
       "    <tr>\n",
       "      <th>2</th>\n",
       "      <td>3</td>\n",
       "      <td>FR</td>\n",
       "    </tr>\n",
       "    <tr>\n",
       "      <th>3</th>\n",
       "      <td>4</td>\n",
       "      <td>IN</td>\n",
       "    </tr>\n",
       "    <tr>\n",
       "      <th>4</th>\n",
       "      <td>5</td>\n",
       "      <td>US</td>\n",
       "    </tr>\n",
       "  </tbody>\n",
       "</table>\n",
       "</div>"
      ],
      "text/plain": [
       "   country_id country_code\n",
       "0           1           BR\n",
       "1           2           DE\n",
       "2           3           FR\n",
       "3           4           IN\n",
       "4           5           US"
      ]
     },
     "execution_count": 6,
     "metadata": {},
     "output_type": "execute_result"
    }
   ],
   "source": [
    "country_df.head()"
   ]
  },
  {
   "cell_type": "code",
   "execution_count": 7,
   "id": "d49b7dce-010f-42fa-9bd8-35c9f8a24b28",
   "metadata": {
    "execution": {
     "iopub.execute_input": "2025-09-12T09:41:06.229631Z",
     "iopub.status.busy": "2025-09-12T09:41:06.228080Z",
     "iopub.status.idle": "2025-09-12T09:41:06.251910Z",
     "shell.execute_reply": "2025-09-12T09:41:06.250912Z",
     "shell.execute_reply.started": "2025-09-12T09:41:06.229631Z"
    }
   },
   "outputs": [
    {
     "data": {
      "text/html": [
       "<div>\n",
       "<style scoped>\n",
       "    .dataframe tbody tr th:only-of-type {\n",
       "        vertical-align: middle;\n",
       "    }\n",
       "\n",
       "    .dataframe tbody tr th {\n",
       "        vertical-align: top;\n",
       "    }\n",
       "\n",
       "    .dataframe thead th {\n",
       "        text-align: right;\n",
       "    }\n",
       "</style>\n",
       "<table border=\"1\" class=\"dataframe\">\n",
       "  <thead>\n",
       "    <tr style=\"text-align: right;\">\n",
       "      <th></th>\n",
       "      <th>group_id</th>\n",
       "      <th>group_label</th>\n",
       "    </tr>\n",
       "  </thead>\n",
       "  <tbody>\n",
       "    <tr>\n",
       "      <th>0</th>\n",
       "      <td>1</td>\n",
       "      <td>A</td>\n",
       "    </tr>\n",
       "    <tr>\n",
       "      <th>1</th>\n",
       "      <td>2</td>\n",
       "      <td>B</td>\n",
       "    </tr>\n",
       "  </tbody>\n",
       "</table>\n",
       "</div>"
      ],
      "text/plain": [
       "   group_id group_label\n",
       "0         1           A\n",
       "1         2           B"
      ]
     },
     "execution_count": 7,
     "metadata": {},
     "output_type": "execute_result"
    }
   ],
   "source": [
    "group_df.head()"
   ]
  },
  {
   "cell_type": "code",
   "execution_count": 8,
   "id": "c71673df-9be3-47d4-a7a5-ce71078682b2",
   "metadata": {
    "execution": {
     "iopub.execute_input": "2025-09-12T09:41:08.447759Z",
     "iopub.status.busy": "2025-09-12T09:41:08.446764Z",
     "iopub.status.idle": "2025-09-12T09:41:08.468547Z",
     "shell.execute_reply": "2025-09-12T09:41:08.466537Z",
     "shell.execute_reply.started": "2025-09-12T09:41:08.447759Z"
    }
   },
   "outputs": [
    {
     "data": {
      "text/html": [
       "<div>\n",
       "<style scoped>\n",
       "    .dataframe tbody tr th:only-of-type {\n",
       "        vertical-align: middle;\n",
       "    }\n",
       "\n",
       "    .dataframe tbody tr th {\n",
       "        vertical-align: top;\n",
       "    }\n",
       "\n",
       "    .dataframe thead th {\n",
       "        text-align: right;\n",
       "    }\n",
       "</style>\n",
       "<table border=\"1\" class=\"dataframe\">\n",
       "  <thead>\n",
       "    <tr style=\"text-align: right;\">\n",
       "      <th></th>\n",
       "      <th>user_id</th>\n",
       "      <th>device_id</th>\n",
       "      <th>country_id</th>\n",
       "      <th>group_id</th>\n",
       "      <th>days_on_product</th>\n",
       "    </tr>\n",
       "  </thead>\n",
       "  <tbody>\n",
       "    <tr>\n",
       "      <th>0</th>\n",
       "      <td>7654</td>\n",
       "      <td>5.0</td>\n",
       "      <td>4.0</td>\n",
       "      <td>1.0</td>\n",
       "      <td>55.0</td>\n",
       "    </tr>\n",
       "    <tr>\n",
       "      <th>1</th>\n",
       "      <td>7866</td>\n",
       "      <td>2.0</td>\n",
       "      <td>1.0</td>\n",
       "      <td>2.0</td>\n",
       "      <td>39.0</td>\n",
       "    </tr>\n",
       "    <tr>\n",
       "      <th>2</th>\n",
       "      <td>3227</td>\n",
       "      <td>2.0</td>\n",
       "      <td>2.0</td>\n",
       "      <td>1.0</td>\n",
       "      <td>27.0</td>\n",
       "    </tr>\n",
       "    <tr>\n",
       "      <th>3</th>\n",
       "      <td>5913</td>\n",
       "      <td>2.0</td>\n",
       "      <td>3.0</td>\n",
       "      <td>1.0</td>\n",
       "      <td>61.0</td>\n",
       "    </tr>\n",
       "    <tr>\n",
       "      <th>4</th>\n",
       "      <td>8238</td>\n",
       "      <td>2.0</td>\n",
       "      <td>4.0</td>\n",
       "      <td>1.0</td>\n",
       "      <td>47.0</td>\n",
       "    </tr>\n",
       "  </tbody>\n",
       "</table>\n",
       "</div>"
      ],
      "text/plain": [
       "   user_id  device_id  country_id  group_id  days_on_product\n",
       "0     7654        5.0         4.0       1.0             55.0\n",
       "1     7866        2.0         1.0       2.0             39.0\n",
       "2     3227        2.0         2.0       1.0             27.0\n",
       "3     5913        2.0         3.0       1.0             61.0\n",
       "4     8238        2.0         4.0       1.0             47.0"
      ]
     },
     "execution_count": 8,
     "metadata": {},
     "output_type": "execute_result"
    }
   ],
   "source": [
    "user_df.head()"
   ]
  },
  {
   "cell_type": "code",
   "execution_count": 9,
   "id": "eb98faa2-f9a5-43e4-9fac-29d831442f3f",
   "metadata": {
    "execution": {
     "iopub.execute_input": "2025-09-12T09:41:10.364284Z",
     "iopub.status.busy": "2025-09-12T09:41:10.363288Z",
     "iopub.status.idle": "2025-09-12T09:41:10.386552Z",
     "shell.execute_reply": "2025-09-12T09:41:10.385551Z",
     "shell.execute_reply.started": "2025-09-12T09:41:10.364284Z"
    }
   },
   "outputs": [
    {
     "data": {
      "text/html": [
       "<div>\n",
       "<style scoped>\n",
       "    .dataframe tbody tr th:only-of-type {\n",
       "        vertical-align: middle;\n",
       "    }\n",
       "\n",
       "    .dataframe tbody tr th {\n",
       "        vertical-align: top;\n",
       "    }\n",
       "\n",
       "    .dataframe thead th {\n",
       "        text-align: right;\n",
       "    }\n",
       "</style>\n",
       "<table border=\"1\" class=\"dataframe\">\n",
       "  <thead>\n",
       "    <tr style=\"text-align: right;\">\n",
       "      <th></th>\n",
       "      <th>user_id</th>\n",
       "      <th>date</th>\n",
       "      <th>converted</th>\n",
       "    </tr>\n",
       "  </thead>\n",
       "  <tbody>\n",
       "    <tr>\n",
       "      <th>0</th>\n",
       "      <td>2518</td>\n",
       "      <td>2025-08-04</td>\n",
       "      <td>0.0</td>\n",
       "    </tr>\n",
       "    <tr>\n",
       "      <th>1</th>\n",
       "      <td>1157</td>\n",
       "      <td>2025-08-16</td>\n",
       "      <td>0.0</td>\n",
       "    </tr>\n",
       "    <tr>\n",
       "      <th>2</th>\n",
       "      <td>1240</td>\n",
       "      <td>2025-08-11</td>\n",
       "      <td>0.0</td>\n",
       "    </tr>\n",
       "    <tr>\n",
       "      <th>3</th>\n",
       "      <td>9009</td>\n",
       "      <td>2025-08-20</td>\n",
       "      <td>0.0</td>\n",
       "    </tr>\n",
       "    <tr>\n",
       "      <th>4</th>\n",
       "      <td>8494</td>\n",
       "      <td>2025-08-08</td>\n",
       "      <td>0.0</td>\n",
       "    </tr>\n",
       "  </tbody>\n",
       "</table>\n",
       "</div>"
      ],
      "text/plain": [
       "   user_id       date  converted\n",
       "0     2518 2025-08-04        0.0\n",
       "1     1157 2025-08-16        0.0\n",
       "2     1240 2025-08-11        0.0\n",
       "3     9009 2025-08-20        0.0\n",
       "4     8494 2025-08-08        0.0"
      ]
     },
     "execution_count": 9,
     "metadata": {},
     "output_type": "execute_result"
    }
   ],
   "source": [
    "daily_df.head()"
   ]
  },
  {
   "cell_type": "markdown",
   "id": "cbfef004-46a1-4717-8a99-fd3a5b586d88",
   "metadata": {},
   "source": [
    "Крок 3:\n",
    "Аналіз пропусків, кількості рядків та типів даних по листах датасету"
   ]
  },
  {
   "cell_type": "code",
   "execution_count": 10,
   "id": "65e6dc5b-483d-44ca-a630-4233ae4d354e",
   "metadata": {
    "execution": {
     "iopub.execute_input": "2025-09-12T09:41:13.950503Z",
     "iopub.status.busy": "2025-09-12T09:41:13.949507Z",
     "iopub.status.idle": "2025-09-12T09:41:55.465549Z",
     "shell.execute_reply": "2025-09-12T09:41:55.462083Z",
     "shell.execute_reply.started": "2025-09-12T09:41:13.950503Z"
    }
   },
   "outputs": [
    {
     "name": "stdout",
     "output_type": "stream",
     "text": [
      "\n",
      "📄 Лист: device\n",
      "             Missing Count  record_counts Data Type\n",
      "device_id                0              5     int64\n",
      "device_name              0              5    object\n",
      "\n",
      "📄 Лист: country\n",
      "              Missing Count  record_counts Data Type\n",
      "country_id                0              6     int64\n",
      "country_code              0              6    object\n",
      "\n",
      "📄 Лист: group\n",
      "             Missing Count  record_counts Data Type\n",
      "group_id                 0              2     int64\n",
      "group_label              0              2    object\n",
      "\n",
      "📄 Лист: user\n",
      "                 Missing Count  record_counts Data Type\n",
      "user_id                      0          10000     int64\n",
      "device_id                  203          10000   float64\n",
      "country_id                 669          10000   float64\n",
      "group_id                    41          10000   float64\n",
      "days_on_product            151          10000   float64\n",
      "\n",
      "📄 Лист: daily\n",
      "           Missing Count  record_counts       Data Type\n",
      "user_id                0          61501           int64\n",
      "date                   0          61501  datetime64[ns]\n",
      "converted            516          61501         float64\n"
     ]
    }
   ],
   "source": [
    "data_summary = {}\n",
    "\n",
    "# Проходимо по кожному листу\n",
    "for sheet in all_sheets:\n",
    "    df = pd.read_excel(file_path, sheet_name=sheet)\n",
    "\n",
    "    missing = df.isnull().sum()\n",
    "    num_records = len(df)\n",
    "    dtypes = df.dtypes.astype(str)\n",
    "\n",
    "    summary = pd.DataFrame({\n",
    "        'Missing Count': missing,\n",
    "        'record_counts': num_records,\n",
    "        'Data Type': dtypes\n",
    "    })\n",
    "    data_summary[sheet] = summary\n",
    "\n",
    "# Виводимо результати\n",
    "for sheet, summary in data_summary.items():\n",
    "    print(f\"\\n📄 Лист: {sheet}\")\n",
    "    print(summary)"
   ]
  },
  {
   "cell_type": "markdown",
   "id": "a6e6f286-f909-45d5-ab57-6256f6b1e64f",
   "metadata": {},
   "source": [
    "Крок 4: Обробка та заміна пропущених даних та типів даних.\n",
    "\n",
    "Оскільки найбільше пропущених даних у таблиці user, почнемо саме з неї"
   ]
  },
  {
   "cell_type": "code",
   "execution_count": 11,
   "id": "2cf034be-2ac4-4015-b54f-ba264088267b",
   "metadata": {
    "execution": {
     "iopub.execute_input": "2025-09-12T09:41:55.471078Z",
     "iopub.status.busy": "2025-09-12T09:41:55.470050Z",
     "iopub.status.idle": "2025-09-12T09:41:55.512335Z",
     "shell.execute_reply": "2025-09-12T09:41:55.509200Z",
     "shell.execute_reply.started": "2025-09-12T09:41:55.471078Z"
    }
   },
   "outputs": [
    {
     "data": {
      "text/html": [
       "<div>\n",
       "<style scoped>\n",
       "    .dataframe tbody tr th:only-of-type {\n",
       "        vertical-align: middle;\n",
       "    }\n",
       "\n",
       "    .dataframe tbody tr th {\n",
       "        vertical-align: top;\n",
       "    }\n",
       "\n",
       "    .dataframe thead th {\n",
       "        text-align: right;\n",
       "    }\n",
       "</style>\n",
       "<table border=\"1\" class=\"dataframe\">\n",
       "  <thead>\n",
       "    <tr style=\"text-align: right;\">\n",
       "      <th></th>\n",
       "      <th>user_id</th>\n",
       "      <th>device_id</th>\n",
       "      <th>country_id</th>\n",
       "      <th>group_id</th>\n",
       "      <th>days_on_product</th>\n",
       "    </tr>\n",
       "  </thead>\n",
       "  <tbody>\n",
       "    <tr>\n",
       "      <th>0</th>\n",
       "      <td>7654</td>\n",
       "      <td>5.0</td>\n",
       "      <td>4.0</td>\n",
       "      <td>1.0</td>\n",
       "      <td>55.0</td>\n",
       "    </tr>\n",
       "    <tr>\n",
       "      <th>1</th>\n",
       "      <td>7866</td>\n",
       "      <td>2.0</td>\n",
       "      <td>1.0</td>\n",
       "      <td>2.0</td>\n",
       "      <td>39.0</td>\n",
       "    </tr>\n",
       "    <tr>\n",
       "      <th>2</th>\n",
       "      <td>3227</td>\n",
       "      <td>2.0</td>\n",
       "      <td>2.0</td>\n",
       "      <td>1.0</td>\n",
       "      <td>27.0</td>\n",
       "    </tr>\n",
       "    <tr>\n",
       "      <th>3</th>\n",
       "      <td>5913</td>\n",
       "      <td>2.0</td>\n",
       "      <td>3.0</td>\n",
       "      <td>1.0</td>\n",
       "      <td>61.0</td>\n",
       "    </tr>\n",
       "    <tr>\n",
       "      <th>4</th>\n",
       "      <td>8238</td>\n",
       "      <td>2.0</td>\n",
       "      <td>4.0</td>\n",
       "      <td>1.0</td>\n",
       "      <td>47.0</td>\n",
       "    </tr>\n",
       "  </tbody>\n",
       "</table>\n",
       "</div>"
      ],
      "text/plain": [
       "   user_id  device_id  country_id  group_id  days_on_product\n",
       "0     7654        5.0         4.0       1.0             55.0\n",
       "1     7866        2.0         1.0       2.0             39.0\n",
       "2     3227        2.0         2.0       1.0             27.0\n",
       "3     5913        2.0         3.0       1.0             61.0\n",
       "4     8238        2.0         4.0       1.0             47.0"
      ]
     },
     "execution_count": 11,
     "metadata": {},
     "output_type": "execute_result"
    }
   ],
   "source": [
    "user_df.head()"
   ]
  },
  {
   "cell_type": "code",
   "execution_count": 12,
   "id": "330d56a9-61cb-4dbb-a8db-9dcc3befab00",
   "metadata": {
    "execution": {
     "iopub.execute_input": "2025-09-08T07:50:57.610489Z",
     "iopub.status.busy": "2025-09-08T07:50:57.609473Z",
     "iopub.status.idle": "2025-09-08T07:50:57.630580Z",
     "shell.execute_reply": "2025-09-08T07:50:57.629588Z",
     "shell.execute_reply.started": "2025-09-08T07:50:57.610489Z"
    }
   },
   "outputs": [
    {
     "data": {
      "text/plain": [
       "Index(['user_id', 'device_id', 'country_id', 'group_id', 'days_on_product'], dtype='object')"
      ]
     },
     "execution_count": 12,
     "metadata": {},
     "output_type": "execute_result"
    }
   ],
   "source": [
    "user_df.columns"
   ]
  },
  {
   "cell_type": "markdown",
   "id": "dd38d4aa-4ce4-4a9a-aa78-8fee0c19cf2e",
   "metadata": {},
   "source": [
    "Ще раз подивимось на пропущені та аномальні значення в таблиці user"
   ]
  },
  {
   "cell_type": "code",
   "execution_count": 13,
   "id": "c8e31f06-7563-4f42-89cf-bf6d5c5b18d4",
   "metadata": {
    "execution": {
     "iopub.execute_input": "2025-09-08T07:51:00.569903Z",
     "iopub.status.busy": "2025-09-08T07:51:00.569903Z",
     "iopub.status.idle": "2025-09-08T07:51:00.601113Z",
     "shell.execute_reply": "2025-09-08T07:51:00.599868Z",
     "shell.execute_reply.started": "2025-09-08T07:51:00.569903Z"
    }
   },
   "outputs": [
    {
     "name": "stdout",
     "output_type": "stream",
     "text": [
      "Загальна кількість записів: 10000\n",
      "Кількість пропущених записів:\n"
     ]
    },
    {
     "data": {
      "text/plain": [
       "user_id              0\n",
       "device_id          203\n",
       "country_id         669\n",
       "group_id            41\n",
       "days_on_product    151\n",
       "dtype: int64"
      ]
     },
     "execution_count": 13,
     "metadata": {},
     "output_type": "execute_result"
    }
   ],
   "source": [
    "num_records_user = len(user_df)\n",
    "missing_values_user = user_df.isnull().sum()\n",
    "\n",
    "print(f'Загальна кількість записів: {num_records_user}')\n",
    "\n",
    "print(f'Кількість пропущених записів:')\n",
    "missing_values_user"
   ]
  },
  {
   "cell_type": "code",
   "execution_count": 14,
   "id": "af83608c-63dd-4ae1-8eac-164ee6e6f621",
   "metadata": {
    "execution": {
     "iopub.execute_input": "2025-09-08T07:51:03.395281Z",
     "iopub.status.busy": "2025-09-08T07:51:03.394271Z",
     "iopub.status.idle": "2025-09-08T07:51:03.429562Z",
     "shell.execute_reply": "2025-09-08T07:51:03.428132Z",
     "shell.execute_reply.started": "2025-09-08T07:51:03.395281Z"
    }
   },
   "outputs": [
    {
     "data": {
      "text/html": [
       "<div>\n",
       "<style scoped>\n",
       "    .dataframe tbody tr th:only-of-type {\n",
       "        vertical-align: middle;\n",
       "    }\n",
       "\n",
       "    .dataframe tbody tr th {\n",
       "        vertical-align: top;\n",
       "    }\n",
       "\n",
       "    .dataframe thead th {\n",
       "        text-align: right;\n",
       "    }\n",
       "</style>\n",
       "<table border=\"1\" class=\"dataframe\">\n",
       "  <thead>\n",
       "    <tr style=\"text-align: right;\">\n",
       "      <th></th>\n",
       "      <th>user_id</th>\n",
       "      <th>device_id</th>\n",
       "      <th>country_id</th>\n",
       "      <th>group_id</th>\n",
       "      <th>days_on_product</th>\n",
       "    </tr>\n",
       "  </thead>\n",
       "  <tbody>\n",
       "    <tr>\n",
       "      <th>336</th>\n",
       "      <td>9416</td>\n",
       "      <td>2.0</td>\n",
       "      <td>5.0</td>\n",
       "      <td>1.0</td>\n",
       "      <td>-15.0</td>\n",
       "    </tr>\n",
       "    <tr>\n",
       "      <th>450</th>\n",
       "      <td>4962</td>\n",
       "      <td>1.0</td>\n",
       "      <td>4.0</td>\n",
       "      <td>2.0</td>\n",
       "      <td>-2.0</td>\n",
       "    </tr>\n",
       "    <tr>\n",
       "      <th>544</th>\n",
       "      <td>8020</td>\n",
       "      <td>NaN</td>\n",
       "      <td>4.0</td>\n",
       "      <td>1.0</td>\n",
       "      <td>-8.0</td>\n",
       "    </tr>\n",
       "    <tr>\n",
       "      <th>687</th>\n",
       "      <td>43</td>\n",
       "      <td>2.0</td>\n",
       "      <td>4.0</td>\n",
       "      <td>1.0</td>\n",
       "      <td>-18.0</td>\n",
       "    </tr>\n",
       "    <tr>\n",
       "      <th>868</th>\n",
       "      <td>6378</td>\n",
       "      <td>2.0</td>\n",
       "      <td>5.0</td>\n",
       "      <td>2.0</td>\n",
       "      <td>-10.0</td>\n",
       "    </tr>\n",
       "    <tr>\n",
       "      <th>1229</th>\n",
       "      <td>7365</td>\n",
       "      <td>NaN</td>\n",
       "      <td>2.0</td>\n",
       "      <td>2.0</td>\n",
       "      <td>-6.0</td>\n",
       "    </tr>\n",
       "    <tr>\n",
       "      <th>1378</th>\n",
       "      <td>5317</td>\n",
       "      <td>2.0</td>\n",
       "      <td>3.0</td>\n",
       "      <td>2.0</td>\n",
       "      <td>-13.0</td>\n",
       "    </tr>\n",
       "    <tr>\n",
       "      <th>1528</th>\n",
       "      <td>8582</td>\n",
       "      <td>5.0</td>\n",
       "      <td>NaN</td>\n",
       "      <td>1.0</td>\n",
       "      <td>-19.0</td>\n",
       "    </tr>\n",
       "    <tr>\n",
       "      <th>1883</th>\n",
       "      <td>9650</td>\n",
       "      <td>1.0</td>\n",
       "      <td>4.0</td>\n",
       "      <td>1.0</td>\n",
       "      <td>-5.0</td>\n",
       "    </tr>\n",
       "    <tr>\n",
       "      <th>2022</th>\n",
       "      <td>1555</td>\n",
       "      <td>2.0</td>\n",
       "      <td>2.0</td>\n",
       "      <td>2.0</td>\n",
       "      <td>-26.0</td>\n",
       "    </tr>\n",
       "    <tr>\n",
       "      <th>2302</th>\n",
       "      <td>1668</td>\n",
       "      <td>2.0</td>\n",
       "      <td>5.0</td>\n",
       "      <td>2.0</td>\n",
       "      <td>-6.0</td>\n",
       "    </tr>\n",
       "    <tr>\n",
       "      <th>2555</th>\n",
       "      <td>6303</td>\n",
       "      <td>2.0</td>\n",
       "      <td>5.0</td>\n",
       "      <td>2.0</td>\n",
       "      <td>-23.0</td>\n",
       "    </tr>\n",
       "    <tr>\n",
       "      <th>3637</th>\n",
       "      <td>5919</td>\n",
       "      <td>1.0</td>\n",
       "      <td>5.0</td>\n",
       "      <td>2.0</td>\n",
       "      <td>-28.0</td>\n",
       "    </tr>\n",
       "    <tr>\n",
       "      <th>3725</th>\n",
       "      <td>6842</td>\n",
       "      <td>2.0</td>\n",
       "      <td>NaN</td>\n",
       "      <td>2.0</td>\n",
       "      <td>-29.0</td>\n",
       "    </tr>\n",
       "    <tr>\n",
       "      <th>4639</th>\n",
       "      <td>4795</td>\n",
       "      <td>2.0</td>\n",
       "      <td>1.0</td>\n",
       "      <td>2.0</td>\n",
       "      <td>-27.0</td>\n",
       "    </tr>\n",
       "    <tr>\n",
       "      <th>4886</th>\n",
       "      <td>9678</td>\n",
       "      <td>1.0</td>\n",
       "      <td>4.0</td>\n",
       "      <td>2.0</td>\n",
       "      <td>-28.0</td>\n",
       "    </tr>\n",
       "    <tr>\n",
       "      <th>5191</th>\n",
       "      <td>7755</td>\n",
       "      <td>2.0</td>\n",
       "      <td>1.0</td>\n",
       "      <td>1.0</td>\n",
       "      <td>-17.0</td>\n",
       "    </tr>\n",
       "    <tr>\n",
       "      <th>6130</th>\n",
       "      <td>4266</td>\n",
       "      <td>1.0</td>\n",
       "      <td>2.0</td>\n",
       "      <td>1.0</td>\n",
       "      <td>-11.0</td>\n",
       "    </tr>\n",
       "    <tr>\n",
       "      <th>6878</th>\n",
       "      <td>695</td>\n",
       "      <td>2.0</td>\n",
       "      <td>2.0</td>\n",
       "      <td>2.0</td>\n",
       "      <td>-14.0</td>\n",
       "    </tr>\n",
       "    <tr>\n",
       "      <th>8598</th>\n",
       "      <td>4909</td>\n",
       "      <td>1.0</td>\n",
       "      <td>4.0</td>\n",
       "      <td>2.0</td>\n",
       "      <td>-12.0</td>\n",
       "    </tr>\n",
       "  </tbody>\n",
       "</table>\n",
       "</div>"
      ],
      "text/plain": [
       "      user_id  device_id  country_id  group_id  days_on_product\n",
       "336      9416        2.0         5.0       1.0            -15.0\n",
       "450      4962        1.0         4.0       2.0             -2.0\n",
       "544      8020        NaN         4.0       1.0             -8.0\n",
       "687        43        2.0         4.0       1.0            -18.0\n",
       "868      6378        2.0         5.0       2.0            -10.0\n",
       "1229     7365        NaN         2.0       2.0             -6.0\n",
       "1378     5317        2.0         3.0       2.0            -13.0\n",
       "1528     8582        5.0         NaN       1.0            -19.0\n",
       "1883     9650        1.0         4.0       1.0             -5.0\n",
       "2022     1555        2.0         2.0       2.0            -26.0\n",
       "2302     1668        2.0         5.0       2.0             -6.0\n",
       "2555     6303        2.0         5.0       2.0            -23.0\n",
       "3637     5919        1.0         5.0       2.0            -28.0\n",
       "3725     6842        2.0         NaN       2.0            -29.0\n",
       "4639     4795        2.0         1.0       2.0            -27.0\n",
       "4886     9678        1.0         4.0       2.0            -28.0\n",
       "5191     7755        2.0         1.0       1.0            -17.0\n",
       "6130     4266        1.0         2.0       1.0            -11.0\n",
       "6878      695        2.0         2.0       2.0            -14.0\n",
       "8598     4909        1.0         4.0       2.0            -12.0"
      ]
     },
     "execution_count": 14,
     "metadata": {},
     "output_type": "execute_result"
    }
   ],
   "source": [
    "user_df[user_df[\"days_on_product\"] < 0]"
   ]
  },
  {
   "cell_type": "markdown",
   "id": "98da4915-dee0-481a-ae81-a1dac71a5759",
   "metadata": {},
   "source": [
    "Спочатку вирішуємо виправити від’ємні значення в колонці days_on_product.\n",
    "\n",
    "Ми вирішили замінити від’ємні значення в колонці days_on_product NULL, щоб уникнути викривлення статистики, забезпечити коректність візуалізації, зберегти цілісність та інтерпретованість даних."
   ]
  },
  {
   "cell_type": "code",
   "execution_count": 15,
   "id": "49aadeaf-169c-44d8-94b0-bd32acb0f53d",
   "metadata": {
    "execution": {
     "iopub.execute_input": "2025-09-08T07:51:06.462956Z",
     "iopub.status.busy": "2025-09-08T07:51:06.462956Z",
     "iopub.status.idle": "2025-09-08T07:51:06.501411Z",
     "shell.execute_reply": "2025-09-08T07:51:06.499300Z",
     "shell.execute_reply.started": "2025-09-08T07:51:06.462956Z"
    }
   },
   "outputs": [
    {
     "data": {
      "text/html": [
       "<div>\n",
       "<style scoped>\n",
       "    .dataframe tbody tr th:only-of-type {\n",
       "        vertical-align: middle;\n",
       "    }\n",
       "\n",
       "    .dataframe tbody tr th {\n",
       "        vertical-align: top;\n",
       "    }\n",
       "\n",
       "    .dataframe thead th {\n",
       "        text-align: right;\n",
       "    }\n",
       "</style>\n",
       "<table border=\"1\" class=\"dataframe\">\n",
       "  <thead>\n",
       "    <tr style=\"text-align: right;\">\n",
       "      <th></th>\n",
       "      <th>user_id</th>\n",
       "      <th>device_id</th>\n",
       "      <th>country_id</th>\n",
       "      <th>group_id</th>\n",
       "      <th>days_on_product</th>\n",
       "    </tr>\n",
       "  </thead>\n",
       "  <tbody>\n",
       "    <tr>\n",
       "      <th>15</th>\n",
       "      <td>3195</td>\n",
       "      <td>2.0</td>\n",
       "      <td>5.0</td>\n",
       "      <td>2.0</td>\n",
       "      <td>NaN</td>\n",
       "    </tr>\n",
       "    <tr>\n",
       "      <th>63</th>\n",
       "      <td>1936</td>\n",
       "      <td>2.0</td>\n",
       "      <td>5.0</td>\n",
       "      <td>1.0</td>\n",
       "      <td>NaN</td>\n",
       "    </tr>\n",
       "    <tr>\n",
       "      <th>65</th>\n",
       "      <td>5728</td>\n",
       "      <td>2.0</td>\n",
       "      <td>4.0</td>\n",
       "      <td>2.0</td>\n",
       "      <td>NaN</td>\n",
       "    </tr>\n",
       "    <tr>\n",
       "      <th>250</th>\n",
       "      <td>1371</td>\n",
       "      <td>2.0</td>\n",
       "      <td>3.0</td>\n",
       "      <td>2.0</td>\n",
       "      <td>NaN</td>\n",
       "    </tr>\n",
       "    <tr>\n",
       "      <th>336</th>\n",
       "      <td>9416</td>\n",
       "      <td>2.0</td>\n",
       "      <td>5.0</td>\n",
       "      <td>1.0</td>\n",
       "      <td>NaN</td>\n",
       "    </tr>\n",
       "    <tr>\n",
       "      <th>...</th>\n",
       "      <td>...</td>\n",
       "      <td>...</td>\n",
       "      <td>...</td>\n",
       "      <td>...</td>\n",
       "      <td>...</td>\n",
       "    </tr>\n",
       "    <tr>\n",
       "      <th>9699</th>\n",
       "      <td>9350</td>\n",
       "      <td>2.0</td>\n",
       "      <td>5.0</td>\n",
       "      <td>1.0</td>\n",
       "      <td>NaN</td>\n",
       "    </tr>\n",
       "    <tr>\n",
       "      <th>9715</th>\n",
       "      <td>2594</td>\n",
       "      <td>2.0</td>\n",
       "      <td>4.0</td>\n",
       "      <td>2.0</td>\n",
       "      <td>NaN</td>\n",
       "    </tr>\n",
       "    <tr>\n",
       "      <th>9766</th>\n",
       "      <td>3560</td>\n",
       "      <td>2.0</td>\n",
       "      <td>5.0</td>\n",
       "      <td>2.0</td>\n",
       "      <td>NaN</td>\n",
       "    </tr>\n",
       "    <tr>\n",
       "      <th>9897</th>\n",
       "      <td>7900</td>\n",
       "      <td>2.0</td>\n",
       "      <td>1.0</td>\n",
       "      <td>1.0</td>\n",
       "      <td>NaN</td>\n",
       "    </tr>\n",
       "    <tr>\n",
       "      <th>9900</th>\n",
       "      <td>4339</td>\n",
       "      <td>1.0</td>\n",
       "      <td>3.0</td>\n",
       "      <td>1.0</td>\n",
       "      <td>NaN</td>\n",
       "    </tr>\n",
       "  </tbody>\n",
       "</table>\n",
       "<p>171 rows × 5 columns</p>\n",
       "</div>"
      ],
      "text/plain": [
       "      user_id  device_id  country_id  group_id  days_on_product\n",
       "15       3195        2.0         5.0       2.0              NaN\n",
       "63       1936        2.0         5.0       1.0              NaN\n",
       "65       5728        2.0         4.0       2.0              NaN\n",
       "250      1371        2.0         3.0       2.0              NaN\n",
       "336      9416        2.0         5.0       1.0              NaN\n",
       "...       ...        ...         ...       ...              ...\n",
       "9699     9350        2.0         5.0       1.0              NaN\n",
       "9715     2594        2.0         4.0       2.0              NaN\n",
       "9766     3560        2.0         5.0       2.0              NaN\n",
       "9897     7900        2.0         1.0       1.0              NaN\n",
       "9900     4339        1.0         3.0       1.0              NaN\n",
       "\n",
       "[171 rows x 5 columns]"
      ]
     },
     "execution_count": 15,
     "metadata": {},
     "output_type": "execute_result"
    }
   ],
   "source": [
    "user_df.loc[user_df[\"days_on_product\"] < 0, \"days_on_product\"] = np.nan\n",
    "user_df[user_df[\"days_on_product\"].isna()]"
   ]
  },
  {
   "cell_type": "markdown",
   "id": "77977112-c650-4f5f-9c5c-8aad2b366d52",
   "metadata": {},
   "source": [
    "Подивимоось на розподіл \"days_on_product\""
   ]
  },
  {
   "cell_type": "code",
   "execution_count": 16,
   "id": "5ba688ae-5d2c-46f9-8eb0-a8fcff3cf332",
   "metadata": {
    "execution": {
     "iopub.execute_input": "2025-09-08T07:51:10.208906Z",
     "iopub.status.busy": "2025-09-08T07:51:10.208906Z",
     "iopub.status.idle": "2025-09-08T07:51:10.238952Z",
     "shell.execute_reply": "2025-09-08T07:51:10.237955Z",
     "shell.execute_reply.started": "2025-09-08T07:51:10.208906Z"
    }
   },
   "outputs": [
    {
     "data": {
      "text/plain": [
       "count    9829.000000\n",
       "mean       30.290874\n",
       "std        17.897533\n",
       "min         1.000000\n",
       "25%        16.000000\n",
       "50%        30.000000\n",
       "75%        45.000000\n",
       "max        79.000000\n",
       "Name: days_on_product, dtype: float64"
      ]
     },
     "execution_count": 16,
     "metadata": {},
     "output_type": "execute_result"
    }
   ],
   "source": [
    "user_df[\"days_on_product\"].describe()"
   ]
  },
  {
   "cell_type": "code",
   "execution_count": 17,
   "id": "83030484-7559-42d4-b8d7-b6e4149b801d",
   "metadata": {
    "execution": {
     "iopub.execute_input": "2025-09-08T07:51:25.352262Z",
     "iopub.status.busy": "2025-09-08T07:51:25.351066Z",
     "iopub.status.idle": "2025-09-08T07:51:26.263125Z",
     "shell.execute_reply": "2025-09-08T07:51:26.261700Z",
     "shell.execute_reply.started": "2025-09-08T07:51:25.352262Z"
    }
   },
   "outputs": [
    {
     "data": {
      "image/png": "[encoded data removed]",
      "text/plain": [
       "<Figure size 640x480 with 1 Axes>"
      ]
     },
     "metadata": {},
     "output_type": "display_data"
    }
   ],
   "source": [
    "sns.boxplot(x=\"group_id\", y=\"days_on_product\", data=user_df)\n",
    "plt.title(\"Boxplot: days_on_product by test_group\")\n",
    "plt.show()"
   ]
  },
  {
   "cell_type": "code",
   "execution_count": 18,
   "id": "7137dd09-d672-47d9-a235-696ac6adf094",
   "metadata": {
    "execution": {
     "iopub.execute_input": "2025-09-08T07:51:32.035022Z",
     "iopub.status.busy": "2025-09-08T07:51:32.034012Z",
     "iopub.status.idle": "2025-09-08T07:51:32.058677Z",
     "shell.execute_reply": "2025-09-08T07:51:32.057213Z",
     "shell.execute_reply.started": "2025-09-08T07:51:32.035022Z"
    }
   },
   "outputs": [
    {
     "name": "stdout",
     "output_type": "stream",
     "text": [
      "Кількість викідів: 0\n"
     ]
    }
   ],
   "source": [
    "Q1 = user_df[\"days_on_product\"].quantile(0.25)\n",
    "Q3 = user_df[\"days_on_product\"].quantile(0.75)\n",
    "IQR = Q3 - Q1\n",
    "\n",
    "lower_bound = Q1 - 1.5 * IQR\n",
    "upper_bound = Q3 + 1.5 * IQR\n",
    "\n",
    "outliers = user_df[(user_df[\"days_on_product\"] < lower_bound) | (user_df[\"days_on_product\"] > upper_bound)]\n",
    "print(f\"Кількість викідів: {len(outliers)}\")"
   ]
  },
  {
   "cell_type": "markdown",
   "id": "804bd970-18ac-4187-b887-b97255c603c9",
   "metadata": {},
   "source": [
    "Проаналізуємо кількість записів по кожній group_id"
   ]
  },
  {
   "cell_type": "code",
   "execution_count": 19,
   "id": "f9b329ee-24b9-4034-b24f-44d4e04dcbee",
   "metadata": {
    "execution": {
     "iopub.execute_input": "2025-09-08T07:51:37.271329Z",
     "iopub.status.busy": "2025-09-08T07:51:37.271329Z",
     "iopub.status.idle": "2025-09-08T07:51:37.287419Z",
     "shell.execute_reply": "2025-09-08T07:51:37.285425Z",
     "shell.execute_reply.started": "2025-09-08T07:51:37.271329Z"
    }
   },
   "outputs": [
    {
     "name": "stdout",
     "output_type": "stream",
     "text": [
      "Кількість записів в групі а 4926\n",
      "Кількість записів в групі b 5033\n"
     ]
    }
   ],
   "source": [
    "group_a = len(user_df[user_df[\"group_id\"] == 1])\n",
    "group_b = len(user_df[user_df[\"group_id\"] == 2])\n",
    "print(f\"Кількість записів в групі а {group_a}\")\n",
    "print(f\"Кількість записів в групі b {group_b}\")"
   ]
  },
  {
   "cell_type": "markdown",
   "id": "4ff68111-cb6f-4cdb-95ea-d29b3eb59a27",
   "metadata": {},
   "source": [
    "Оскільки кількість пропусків у колонці group_id невелика (41 запис), було прийнято рішення замінити їх на групу A (1), оскільки в цій групі трохи менше даних. Такий підхід мінімально впливає на баланс між групами та дозволяє зберегти цілісність аналізу A/B тесту."
   ]
  },
  {
   "cell_type": "code",
   "execution_count": 20,
   "id": "f903e10f-03a1-4a1d-9a41-b30936f58d75",
   "metadata": {
    "execution": {
     "iopub.execute_input": "2025-09-08T07:51:39.963601Z",
     "iopub.status.busy": "2025-09-08T07:51:39.963601Z",
     "iopub.status.idle": "2025-09-08T07:51:39.976820Z",
     "shell.execute_reply": "2025-09-08T07:51:39.975480Z",
     "shell.execute_reply.started": "2025-09-08T07:51:39.963601Z"
    }
   },
   "outputs": [
    {
     "name": "stdout",
     "output_type": "stream",
     "text": [
      "Кількість записів в групі а 4967\n",
      "Кількість записів в групі b 5033\n"
     ]
    }
   ],
   "source": [
    "user_df[\"group_id\"] = user_df[\"group_id\"].fillna(1)\n",
    "group_a_n= len(user_df[user_df[\"group_id\"] == 1])\n",
    "print(f\"Кількість записів в групі а {group_a_n}\")\n",
    "print(f\"Кількість записів в групі b {group_b}\")"
   ]
  },
  {
   "cell_type": "markdown",
   "id": "984911ab-5413-4595-a02d-9b00d2c1b861",
   "metadata": {},
   "source": [
    "Кількість пропусків у колонці device_id невелика (203 записи, приблизно 2% від усіх даних). Для збереження повноти вибірки та мінімізації впливу на розподіл користувачів було вирішено замінити пропущені значення на моду device_id у відповідній групі. Такий підхід дозволяє зберегти логіку розподілу пристроїв у групах і не спотворює результати подальшого A/B аналізу."
   ]
  },
  {
   "cell_type": "code",
   "execution_count": 21,
   "id": "898ab8e1-d609-4524-b1e6-1eb6a004de9b",
   "metadata": {
    "execution": {
     "iopub.execute_input": "2025-09-08T07:51:43.165991Z",
     "iopub.status.busy": "2025-09-08T07:51:43.165991Z",
     "iopub.status.idle": "2025-09-08T07:51:43.190161Z",
     "shell.execute_reply": "2025-09-08T07:51:43.188747Z",
     "shell.execute_reply.started": "2025-09-08T07:51:43.165991Z"
    }
   },
   "outputs": [
    {
     "data": {
      "text/plain": [
       "group_id  device_id\n",
       "1.0       2.0          2894\n",
       "          1.0          1431\n",
       "          5.0           526\n",
       "          3.0             7\n",
       "          4.0             7\n",
       "2.0       2.0          2911\n",
       "          1.0          1519\n",
       "          5.0           486\n",
       "          4.0            10\n",
       "          3.0             6\n",
       "Name: count, dtype: int64"
      ]
     },
     "execution_count": 21,
     "metadata": {},
     "output_type": "execute_result"
    }
   ],
   "source": [
    "device_counts = user_df.groupby(\"group_id\")[\"device_id\"].value_counts()\n",
    "device_counts"
   ]
  },
  {
   "cell_type": "code",
   "execution_count": 22,
   "id": "86c8ffa1-965d-421d-b796-5d42ad780602",
   "metadata": {
    "execution": {
     "iopub.execute_input": "2025-09-08T07:51:46.276867Z",
     "iopub.status.busy": "2025-09-08T07:51:46.275858Z",
     "iopub.status.idle": "2025-09-08T07:51:46.293612Z",
     "shell.execute_reply": "2025-09-08T07:51:46.292396Z",
     "shell.execute_reply.started": "2025-09-08T07:51:46.276867Z"
    }
   },
   "outputs": [
    {
     "name": "stdout",
     "output_type": "stream",
     "text": [
      "Мода група А 2.0.\n",
      "Мода група B 2.0.\n"
     ]
    }
   ],
   "source": [
    "moda_a = user_df[user_df[\"group_id\"] == 1][\"device_id\"].mode()[0]\n",
    "moda_b = user_df[user_df[\"group_id\"] == 2][\"device_id\"].mode()[0]\n",
    "\n",
    "print(f\"Мода група А {moda_a}.\")\n",
    "print(f\"Мода група B {moda_b}.\")"
   ]
  },
  {
   "cell_type": "code",
   "execution_count": 23,
   "id": "7ef25fce-9964-48d9-98df-b87e284c3bbd",
   "metadata": {
    "execution": {
     "iopub.execute_input": "2025-09-08T07:51:49.267074Z",
     "iopub.status.busy": "2025-09-08T07:51:49.267074Z",
     "iopub.status.idle": "2025-09-08T07:51:49.289668Z",
     "shell.execute_reply": "2025-09-08T07:51:49.287632Z",
     "shell.execute_reply.started": "2025-09-08T07:51:49.267074Z"
    }
   },
   "outputs": [],
   "source": [
    "user_df.loc[(user_df[\"group_id\"] == 1) & (user_df[\"device_id\"].isnull()), \"device_id\"] = moda_a\n",
    "user_df.loc[(user_df[\"group_id\"] == 2) & (user_df[\"device_id\"].isnull()), \"device_id\"] = moda_b"
   ]
  },
  {
   "cell_type": "markdown",
   "id": "4bf8f3ab-c056-4825-a462-7783554024a5",
   "metadata": {},
   "source": [
    "Колонка country_id містить 669 пропусків (приблизно 6–7% від усіх даних), що є значною часткою. Для збереження повноти вибірки та реалістичного розподілу країн було прийнято рішення заповнити пропущені значення випадковим чином у межах кожної групи, з ймовірністю пропорційною до наявного розподілу країн у групі. Такий підхід дозволяє зберегти статистичну коректність A/B тесту та уникнути спотворення сегментного аналізу."
   ]
  },
  {
   "cell_type": "code",
   "execution_count": 24,
   "id": "84a4d4f6-7378-4bee-a2fb-40abd32292a3",
   "metadata": {
    "execution": {
     "iopub.execute_input": "2025-09-08T07:51:51.603488Z",
     "iopub.status.busy": "2025-09-08T07:51:51.602492Z",
     "iopub.status.idle": "2025-09-08T07:51:51.636416Z",
     "shell.execute_reply": "2025-09-08T07:51:51.635420Z",
     "shell.execute_reply.started": "2025-09-08T07:51:51.603488Z"
    }
   },
   "outputs": [
    {
     "data": {
      "text/plain": [
       "group_id  country_id\n",
       "1.0       5.0           967\n",
       "          2.0           938\n",
       "          4.0           933\n",
       "          3.0           919\n",
       "          1.0           873\n",
       "          6.0            13\n",
       "2.0       4.0           957\n",
       "          5.0           955\n",
       "          3.0           940\n",
       "          2.0           917\n",
       "          1.0           902\n",
       "          6.0            17\n",
       "Name: count, dtype: int64"
      ]
     },
     "execution_count": 24,
     "metadata": {},
     "output_type": "execute_result"
    }
   ],
   "source": [
    "country_counts = user_df.groupby(\"group_id\")[\"country_id\"].value_counts()\n",
    "country_counts"
   ]
  },
  {
   "cell_type": "code",
   "execution_count": 25,
   "id": "bf87acec-6f81-4ca9-ad5f-30e87c4226fd",
   "metadata": {
    "execution": {
     "iopub.execute_input": "2025-09-08T07:51:54.572745Z",
     "iopub.status.busy": "2025-09-08T07:51:54.571739Z",
     "iopub.status.idle": "2025-09-08T07:51:54.597348Z",
     "shell.execute_reply": "2025-09-08T07:51:54.596078Z",
     "shell.execute_reply.started": "2025-09-08T07:51:54.572745Z"
    }
   },
   "outputs": [],
   "source": [
    "for group in user_df[\"group_id\"].unique():\n",
    "    mask = (user_df[\"group_id\"] == group) & (user_df[\"country_id\"].isnull())\n",
    "    probs = user_df[user_df[\"group_id\"] == group][\"country_id\"].value_counts(normalize=True)\n",
    "    user_df.loc[mask, \"country_id\"] = np.random.choice(\n",
    "        probs.index, size=mask.sum(), p=probs.values\n",
    "    )"
   ]
  },
  {
   "cell_type": "markdown",
   "id": "f1e7138d-f2d8-4a5f-bb17-5512fb7da31c",
   "metadata": {},
   "source": [
    "Після виправлень ще раз перевіряємо пропущені дані"
   ]
  },
  {
   "cell_type": "code",
   "execution_count": 26,
   "id": "5ca8bb09-55c2-4a76-a219-fc3e722b484c",
   "metadata": {
    "execution": {
     "iopub.execute_input": "2025-09-08T07:51:58.342763Z",
     "iopub.status.busy": "2025-09-08T07:51:58.342763Z",
     "iopub.status.idle": "2025-09-08T07:51:58.366008Z",
     "shell.execute_reply": "2025-09-08T07:51:58.364901Z",
     "shell.execute_reply.started": "2025-09-08T07:51:58.342763Z"
    }
   },
   "outputs": [
    {
     "data": {
      "text/plain": [
       "user_id              0\n",
       "device_id            0\n",
       "country_id           0\n",
       "group_id             0\n",
       "days_on_product    171\n",
       "dtype: int64"
      ]
     },
     "execution_count": 26,
     "metadata": {},
     "output_type": "execute_result"
    }
   ],
   "source": [
    "user_df.isnull().sum()"
   ]
  },
  {
   "cell_type": "markdown",
   "id": "8a6e925c-1a69-4a38-89b1-057e89f744ea",
   "metadata": {},
   "source": [
    "Ще раз дивимось на типи даних"
   ]
  },
  {
   "cell_type": "code",
   "execution_count": 27,
   "id": "b6bccc4f-988f-40e0-b60d-7d326baac758",
   "metadata": {
    "execution": {
     "iopub.execute_input": "2025-09-08T07:52:01.157763Z",
     "iopub.status.busy": "2025-09-08T07:52:01.157763Z",
     "iopub.status.idle": "2025-09-08T07:52:01.173764Z",
     "shell.execute_reply": "2025-09-08T07:52:01.172398Z",
     "shell.execute_reply.started": "2025-09-08T07:52:01.157763Z"
    }
   },
   "outputs": [
    {
     "data": {
      "text/plain": [
       "user_id              int64\n",
       "device_id          float64\n",
       "country_id         float64\n",
       "group_id           float64\n",
       "days_on_product    float64\n",
       "dtype: object"
      ]
     },
     "execution_count": 27,
     "metadata": {},
     "output_type": "execute_result"
    }
   ],
   "source": [
    "user_df.dtypes"
   ]
  },
  {
   "cell_type": "markdown",
   "id": "1ee7f611-1f82-48ea-b48a-ae7bb6e65c38",
   "metadata": {},
   "source": [
    "Замініємо усі колонки, крім **days_on_product** на тип даних **integer**, перевіряємо зміни"
   ]
  },
  {
   "cell_type": "code",
   "execution_count": 28,
   "id": "b43892b2-7e25-4ddb-8eae-64688ad5e351",
   "metadata": {
    "execution": {
     "iopub.execute_input": "2025-09-08T07:52:06.108703Z",
     "iopub.status.busy": "2025-09-08T07:52:06.108703Z",
     "iopub.status.idle": "2025-09-08T07:52:06.124565Z",
     "shell.execute_reply": "2025-09-08T07:52:06.123613Z",
     "shell.execute_reply.started": "2025-09-08T07:52:06.108703Z"
    }
   },
   "outputs": [
    {
     "data": {
      "text/plain": [
       "user_id              int64\n",
       "device_id            int64\n",
       "country_id           int64\n",
       "group_id             int64\n",
       "days_on_product    float64\n",
       "dtype: object"
      ]
     },
     "execution_count": 28,
     "metadata": {},
     "output_type": "execute_result"
    }
   ],
   "source": [
    "# знаходимо всі колонки, крім days_on_product\n",
    "cols_to_int = user_df.columns.difference([\"days_on_product\"])\n",
    "\n",
    "# приводимо їх до int\n",
    "user_df[cols_to_int] = user_df[cols_to_int].astype(int)\n",
    "\n",
    "user_df.dtypes"
   ]
  },
  {
   "cell_type": "markdown",
   "id": "33d73ed4-fa11-49d2-9564-86ea5cd5b378",
   "metadata": {},
   "source": [
    "Тепер подивимось на таблицю daily"
   ]
  },
  {
   "cell_type": "code",
   "execution_count": 29,
   "id": "28aa846f-f115-4e2a-9cf1-8f1fae021201",
   "metadata": {
    "execution": {
     "iopub.execute_input": "2025-09-08T07:52:10.804500Z",
     "iopub.status.busy": "2025-09-08T07:52:10.804500Z",
     "iopub.status.idle": "2025-09-08T07:52:10.819821Z",
     "shell.execute_reply": "2025-09-08T07:52:10.818537Z",
     "shell.execute_reply.started": "2025-09-08T07:52:10.804500Z"
    }
   },
   "outputs": [
    {
     "data": {
      "text/html": [
       "<div>\n",
       "<style scoped>\n",
       "    .dataframe tbody tr th:only-of-type {\n",
       "        vertical-align: middle;\n",
       "    }\n",
       "\n",
       "    .dataframe tbody tr th {\n",
       "        vertical-align: top;\n",
       "    }\n",
       "\n",
       "    .dataframe thead th {\n",
       "        text-align: right;\n",
       "    }\n",
       "</style>\n",
       "<table border=\"1\" class=\"dataframe\">\n",
       "  <thead>\n",
       "    <tr style=\"text-align: right;\">\n",
       "      <th></th>\n",
       "      <th>user_id</th>\n",
       "      <th>date</th>\n",
       "      <th>converted</th>\n",
       "    </tr>\n",
       "  </thead>\n",
       "  <tbody>\n",
       "    <tr>\n",
       "      <th>0</th>\n",
       "      <td>2518</td>\n",
       "      <td>2025-08-04</td>\n",
       "      <td>0.0</td>\n",
       "    </tr>\n",
       "    <tr>\n",
       "      <th>1</th>\n",
       "      <td>1157</td>\n",
       "      <td>2025-08-16</td>\n",
       "      <td>0.0</td>\n",
       "    </tr>\n",
       "    <tr>\n",
       "      <th>2</th>\n",
       "      <td>1240</td>\n",
       "      <td>2025-08-11</td>\n",
       "      <td>0.0</td>\n",
       "    </tr>\n",
       "    <tr>\n",
       "      <th>3</th>\n",
       "      <td>9009</td>\n",
       "      <td>2025-08-20</td>\n",
       "      <td>0.0</td>\n",
       "    </tr>\n",
       "    <tr>\n",
       "      <th>4</th>\n",
       "      <td>8494</td>\n",
       "      <td>2025-08-08</td>\n",
       "      <td>0.0</td>\n",
       "    </tr>\n",
       "  </tbody>\n",
       "</table>\n",
       "</div>"
      ],
      "text/plain": [
       "   user_id       date  converted\n",
       "0     2518 2025-08-04        0.0\n",
       "1     1157 2025-08-16        0.0\n",
       "2     1240 2025-08-11        0.0\n",
       "3     9009 2025-08-20        0.0\n",
       "4     8494 2025-08-08        0.0"
      ]
     },
     "execution_count": 29,
     "metadata": {},
     "output_type": "execute_result"
    }
   ],
   "source": [
    "daily_df.head()"
   ]
  },
  {
   "cell_type": "code",
   "execution_count": 30,
   "id": "37503428-28d1-4a43-958d-a30cb03542af",
   "metadata": {
    "execution": {
     "iopub.execute_input": "2025-09-08T07:52:13.607333Z",
     "iopub.status.busy": "2025-09-08T07:52:13.606337Z",
     "iopub.status.idle": "2025-09-08T07:52:13.630895Z",
     "shell.execute_reply": "2025-09-08T07:52:13.629652Z",
     "shell.execute_reply.started": "2025-09-08T07:52:13.607333Z"
    }
   },
   "outputs": [
    {
     "name": "stdout",
     "output_type": "stream",
     "text": [
      "Загальна кількість записів: 61501\n",
      "Кількість пропущених записів:\n"
     ]
    },
    {
     "data": {
      "text/plain": [
       "user_id        0\n",
       "date           0\n",
       "converted    516\n",
       "dtype: int64"
      ]
     },
     "execution_count": 30,
     "metadata": {},
     "output_type": "execute_result"
    }
   ],
   "source": [
    "num_records_daily = len(daily_df)\n",
    "missing_values_daily = daily_df.isnull().sum()\n",
    "\n",
    "print(f'Загальна кількість записів: {num_records_daily}')\n",
    "\n",
    "print(f'Кількість пропущених записів:')\n",
    "missing_values_daily"
   ]
  },
  {
   "cell_type": "markdown",
   "id": "1a4544c3-e2cb-4edb-9030-90b252bc2709",
   "metadata": {},
   "source": [
    "Для того щоб проаналізувати розподіл по групам стовпчика converted, створимо таблицю merged_df"
   ]
  },
  {
   "cell_type": "code",
   "execution_count": 31,
   "id": "4175462f-8b86-4d2f-b027-fa8938aa57a8",
   "metadata": {
    "execution": {
     "iopub.execute_input": "2025-09-08T07:52:16.550205Z",
     "iopub.status.busy": "2025-09-08T07:52:16.550205Z",
     "iopub.status.idle": "2025-09-08T07:52:16.586464Z",
     "shell.execute_reply": "2025-09-08T07:52:16.585165Z",
     "shell.execute_reply.started": "2025-09-08T07:52:16.550205Z"
    }
   },
   "outputs": [
    {
     "data": {
      "text/html": [
       "<div>\n",
       "<style scoped>\n",
       "    .dataframe tbody tr th:only-of-type {\n",
       "        vertical-align: middle;\n",
       "    }\n",
       "\n",
       "    .dataframe tbody tr th {\n",
       "        vertical-align: top;\n",
       "    }\n",
       "\n",
       "    .dataframe thead th {\n",
       "        text-align: right;\n",
       "    }\n",
       "</style>\n",
       "<table border=\"1\" class=\"dataframe\">\n",
       "  <thead>\n",
       "    <tr style=\"text-align: right;\">\n",
       "      <th></th>\n",
       "      <th>user_id</th>\n",
       "      <th>date</th>\n",
       "      <th>converted</th>\n",
       "      <th>group_id</th>\n",
       "    </tr>\n",
       "  </thead>\n",
       "  <tbody>\n",
       "    <tr>\n",
       "      <th>0</th>\n",
       "      <td>2518</td>\n",
       "      <td>2025-08-04</td>\n",
       "      <td>0.0</td>\n",
       "      <td>2</td>\n",
       "    </tr>\n",
       "    <tr>\n",
       "      <th>1</th>\n",
       "      <td>1157</td>\n",
       "      <td>2025-08-16</td>\n",
       "      <td>0.0</td>\n",
       "      <td>2</td>\n",
       "    </tr>\n",
       "    <tr>\n",
       "      <th>2</th>\n",
       "      <td>1240</td>\n",
       "      <td>2025-08-11</td>\n",
       "      <td>0.0</td>\n",
       "      <td>1</td>\n",
       "    </tr>\n",
       "    <tr>\n",
       "      <th>3</th>\n",
       "      <td>9009</td>\n",
       "      <td>2025-08-20</td>\n",
       "      <td>0.0</td>\n",
       "      <td>1</td>\n",
       "    </tr>\n",
       "    <tr>\n",
       "      <th>4</th>\n",
       "      <td>8494</td>\n",
       "      <td>2025-08-08</td>\n",
       "      <td>0.0</td>\n",
       "      <td>2</td>\n",
       "    </tr>\n",
       "    <tr>\n",
       "      <th>...</th>\n",
       "      <td>...</td>\n",
       "      <td>...</td>\n",
       "      <td>...</td>\n",
       "      <td>...</td>\n",
       "    </tr>\n",
       "    <tr>\n",
       "      <th>61496</th>\n",
       "      <td>2017</td>\n",
       "      <td>2025-08-15</td>\n",
       "      <td>0.0</td>\n",
       "      <td>1</td>\n",
       "    </tr>\n",
       "    <tr>\n",
       "      <th>61497</th>\n",
       "      <td>9493</td>\n",
       "      <td>2025-08-01</td>\n",
       "      <td>0.0</td>\n",
       "      <td>1</td>\n",
       "    </tr>\n",
       "    <tr>\n",
       "      <th>61498</th>\n",
       "      <td>2344</td>\n",
       "      <td>2025-08-12</td>\n",
       "      <td>0.0</td>\n",
       "      <td>2</td>\n",
       "    </tr>\n",
       "    <tr>\n",
       "      <th>61499</th>\n",
       "      <td>9310</td>\n",
       "      <td>2025-08-20</td>\n",
       "      <td>0.0</td>\n",
       "      <td>2</td>\n",
       "    </tr>\n",
       "    <tr>\n",
       "      <th>61500</th>\n",
       "      <td>6343</td>\n",
       "      <td>2025-08-20</td>\n",
       "      <td>0.0</td>\n",
       "      <td>2</td>\n",
       "    </tr>\n",
       "  </tbody>\n",
       "</table>\n",
       "<p>61501 rows × 4 columns</p>\n",
       "</div>"
      ],
      "text/plain": [
       "       user_id       date  converted  group_id\n",
       "0         2518 2025-08-04        0.0         2\n",
       "1         1157 2025-08-16        0.0         2\n",
       "2         1240 2025-08-11        0.0         1\n",
       "3         9009 2025-08-20        0.0         1\n",
       "4         8494 2025-08-08        0.0         2\n",
       "...        ...        ...        ...       ...\n",
       "61496     2017 2025-08-15        0.0         1\n",
       "61497     9493 2025-08-01        0.0         1\n",
       "61498     2344 2025-08-12        0.0         2\n",
       "61499     9310 2025-08-20        0.0         2\n",
       "61500     6343 2025-08-20        0.0         2\n",
       "\n",
       "[61501 rows x 4 columns]"
      ]
     },
     "execution_count": 31,
     "metadata": {},
     "output_type": "execute_result"
    }
   ],
   "source": [
    "merged_df = daily_df.merge(user_df[['user_id', 'group_id']], on='user_id', how='left')\n",
    "merged_df"
   ]
  },
  {
   "cell_type": "code",
   "execution_count": 32,
   "id": "c5a4ccbf-613d-486f-a40e-b9f663e185e4",
   "metadata": {
    "execution": {
     "iopub.execute_input": "2025-09-08T07:52:21.450094Z",
     "iopub.status.busy": "2025-09-08T07:52:21.449082Z",
     "iopub.status.idle": "2025-09-08T07:52:21.477658Z",
     "shell.execute_reply": "2025-09-08T07:52:21.476446Z",
     "shell.execute_reply.started": "2025-09-08T07:52:21.450094Z"
    }
   },
   "outputs": [
    {
     "name": "stdout",
     "output_type": "stream",
     "text": [
      "group_id  converted\n",
      "1         0.0          28078\n",
      "          1.0           2310\n",
      "2         0.0          27419\n",
      "          1.0           3178\n",
      "Name: count, dtype: int64\n",
      "group_id\n",
      "1    257\n",
      "2    259\n",
      "Name: converted, dtype: int64\n"
     ]
    }
   ],
   "source": [
    "converted_counts = merged_df.groupby(\"group_id\")[\"converted\"].value_counts()\n",
    "missing_counts_merge = merged_df[merged_df['converted'].isnull()]\\\n",
    "    .groupby('group_id')['converted'].size()\n",
    "\n",
    "print(converted_counts)\n",
    "print(missing_counts_merge)"
   ]
  },
  {
   "cell_type": "code",
   "execution_count": 33,
   "id": "e7076f01-a51a-4496-a46e-cac16c5293ca",
   "metadata": {
    "execution": {
     "iopub.execute_input": "2025-09-08T07:52:25.534521Z",
     "iopub.status.busy": "2025-09-08T07:52:25.533525Z",
     "iopub.status.idle": "2025-09-08T07:52:25.584844Z",
     "shell.execute_reply": "2025-09-08T07:52:25.580392Z",
     "shell.execute_reply.started": "2025-09-08T07:52:25.534521Z"
    }
   },
   "outputs": [
    {
     "data": {
      "text/html": [
       "<div>\n",
       "<style scoped>\n",
       "    .dataframe tbody tr th:only-of-type {\n",
       "        vertical-align: middle;\n",
       "    }\n",
       "\n",
       "    .dataframe tbody tr th {\n",
       "        vertical-align: top;\n",
       "    }\n",
       "\n",
       "    .dataframe thead th {\n",
       "        text-align: right;\n",
       "    }\n",
       "</style>\n",
       "<table border=\"1\" class=\"dataframe\">\n",
       "  <thead>\n",
       "    <tr style=\"text-align: right;\">\n",
       "      <th></th>\n",
       "      <th>count</th>\n",
       "      <th>mean</th>\n",
       "      <th>std</th>\n",
       "      <th>min</th>\n",
       "      <th>25%</th>\n",
       "      <th>50%</th>\n",
       "      <th>75%</th>\n",
       "      <th>max</th>\n",
       "    </tr>\n",
       "    <tr>\n",
       "      <th>group_id</th>\n",
       "      <th></th>\n",
       "      <th></th>\n",
       "      <th></th>\n",
       "      <th></th>\n",
       "      <th></th>\n",
       "      <th></th>\n",
       "      <th></th>\n",
       "      <th></th>\n",
       "    </tr>\n",
       "  </thead>\n",
       "  <tbody>\n",
       "    <tr>\n",
       "      <th>1</th>\n",
       "      <td>30388.0</td>\n",
       "      <td>0.076017</td>\n",
       "      <td>0.265029</td>\n",
       "      <td>0.0</td>\n",
       "      <td>0.0</td>\n",
       "      <td>0.0</td>\n",
       "      <td>0.0</td>\n",
       "      <td>1.0</td>\n",
       "    </tr>\n",
       "    <tr>\n",
       "      <th>2</th>\n",
       "      <td>30597.0</td>\n",
       "      <td>0.103866</td>\n",
       "      <td>0.305092</td>\n",
       "      <td>0.0</td>\n",
       "      <td>0.0</td>\n",
       "      <td>0.0</td>\n",
       "      <td>0.0</td>\n",
       "      <td>1.0</td>\n",
       "    </tr>\n",
       "  </tbody>\n",
       "</table>\n",
       "</div>"
      ],
      "text/plain": [
       "            count      mean       std  min  25%  50%  75%  max\n",
       "group_id                                                      \n",
       "1         30388.0  0.076017  0.265029  0.0  0.0  0.0  0.0  1.0\n",
       "2         30597.0  0.103866  0.305092  0.0  0.0  0.0  0.0  1.0"
      ]
     },
     "execution_count": 33,
     "metadata": {},
     "output_type": "execute_result"
    }
   ],
   "source": [
    "merged_df.groupby(\"group_id\")[\"converted\"].describe()"
   ]
  },
  {
   "cell_type": "markdown",
   "id": "88b93d34-bcc5-4af8-b752-9faaa4ae4051",
   "metadata": {},
   "source": [
    "У процесі попередньої обробки даних було виявлено 516 пропущених значень у колонці converted. Для прийняття рішення щодо заповнення ми провели аналіз розподілу значень по групах користувачів group_id. Результати показали, що у кожній групі переважає значення converted = 0.0, медіана для обох груп дорівнює 0.0, частка пропущених значень становить менше 1% від загальної кількості записів.На основі цього було прийнято рішення заповнити всі пропущені значення медіаною по групі, тобто значенням 0.0"
   ]
  },
  {
   "cell_type": "code",
   "execution_count": 34,
   "id": "d039fb59-de66-408d-9f2b-6ae4610ef0bc",
   "metadata": {
    "execution": {
     "iopub.execute_input": "2025-09-08T07:52:31.920971Z",
     "iopub.status.busy": "2025-09-08T07:52:31.919960Z",
     "iopub.status.idle": "2025-09-08T07:52:31.940978Z",
     "shell.execute_reply": "2025-09-08T07:52:31.939613Z",
     "shell.execute_reply.started": "2025-09-08T07:52:31.920971Z"
    }
   },
   "outputs": [
    {
     "data": {
      "text/plain": [
       "user_id      0\n",
       "date         0\n",
       "converted    0\n",
       "dtype: int64"
      ]
     },
     "execution_count": 34,
     "metadata": {},
     "output_type": "execute_result"
    }
   ],
   "source": [
    "daily_df['converted'] = daily_df['converted'].fillna(0.0)\n",
    "daily_df.isnull().sum()"
   ]
  },
  {
   "cell_type": "code",
   "execution_count": 35,
   "id": "21ab3139-5924-40f4-a322-320cade7fef3",
   "metadata": {
    "execution": {
     "iopub.execute_input": "2025-09-08T07:52:34.704572Z",
     "iopub.status.busy": "2025-09-08T07:52:34.703488Z",
     "iopub.status.idle": "2025-09-08T07:52:34.719087Z",
     "shell.execute_reply": "2025-09-08T07:52:34.717654Z",
     "shell.execute_reply.started": "2025-09-08T07:52:34.704572Z"
    }
   },
   "outputs": [
    {
     "data": {
      "text/plain": [
       "user_id               int64\n",
       "date         datetime64[ns]\n",
       "converted           float64\n",
       "dtype: object"
      ]
     },
     "execution_count": 35,
     "metadata": {},
     "output_type": "execute_result"
    }
   ],
   "source": [
    "daily_df.dtypes"
   ]
  },
  {
   "cell_type": "code",
   "execution_count": 36,
   "id": "987d0f25-8748-40d4-b713-fafe8b48f340",
   "metadata": {
    "execution": {
     "iopub.execute_input": "2025-09-08T07:52:37.315743Z",
     "iopub.status.busy": "2025-09-08T07:52:37.314689Z",
     "iopub.status.idle": "2025-09-08T07:52:37.338164Z",
     "shell.execute_reply": "2025-09-08T07:52:37.336958Z",
     "shell.execute_reply.started": "2025-09-08T07:52:37.315743Z"
    }
   },
   "outputs": [
    {
     "data": {
      "text/plain": [
       "user_id               int64\n",
       "date         datetime64[ns]\n",
       "converted             int64\n",
       "dtype: object"
      ]
     },
     "execution_count": 36,
     "metadata": {},
     "output_type": "execute_result"
    }
   ],
   "source": [
    "daily_df['converted'] = daily_df['converted'].astype(int)\n",
    "daily_df.dtypes"
   ]
  },
  {
   "cell_type": "code",
   "execution_count": 37,
   "id": "d499605d-1c7c-4831-a0e2-a8a01f2e150a",
   "metadata": {
    "execution": {
     "iopub.execute_input": "2025-09-08T07:52:40.362960Z",
     "iopub.status.busy": "2025-09-08T07:52:40.361950Z",
     "iopub.status.idle": "2025-09-08T07:52:40.386370Z",
     "shell.execute_reply": "2025-09-08T07:52:40.385040Z",
     "shell.execute_reply.started": "2025-09-08T07:52:40.362960Z"
    }
   },
   "outputs": [
    {
     "data": {
      "text/html": [
       "<div>\n",
       "<style scoped>\n",
       "    .dataframe tbody tr th:only-of-type {\n",
       "        vertical-align: middle;\n",
       "    }\n",
       "\n",
       "    .dataframe tbody tr th {\n",
       "        vertical-align: top;\n",
       "    }\n",
       "\n",
       "    .dataframe thead th {\n",
       "        text-align: right;\n",
       "    }\n",
       "</style>\n",
       "<table border=\"1\" class=\"dataframe\">\n",
       "  <thead>\n",
       "    <tr style=\"text-align: right;\">\n",
       "      <th></th>\n",
       "      <th>user_id</th>\n",
       "      <th>date</th>\n",
       "      <th>converted</th>\n",
       "    </tr>\n",
       "  </thead>\n",
       "  <tbody>\n",
       "    <tr>\n",
       "      <th>0</th>\n",
       "      <td>2518</td>\n",
       "      <td>2025-08-04</td>\n",
       "      <td>0</td>\n",
       "    </tr>\n",
       "    <tr>\n",
       "      <th>1</th>\n",
       "      <td>1157</td>\n",
       "      <td>2025-08-16</td>\n",
       "      <td>0</td>\n",
       "    </tr>\n",
       "    <tr>\n",
       "      <th>2</th>\n",
       "      <td>1240</td>\n",
       "      <td>2025-08-11</td>\n",
       "      <td>0</td>\n",
       "    </tr>\n",
       "    <tr>\n",
       "      <th>3</th>\n",
       "      <td>9009</td>\n",
       "      <td>2025-08-20</td>\n",
       "      <td>0</td>\n",
       "    </tr>\n",
       "    <tr>\n",
       "      <th>4</th>\n",
       "      <td>8494</td>\n",
       "      <td>2025-08-08</td>\n",
       "      <td>0</td>\n",
       "    </tr>\n",
       "    <tr>\n",
       "      <th>...</th>\n",
       "      <td>...</td>\n",
       "      <td>...</td>\n",
       "      <td>...</td>\n",
       "    </tr>\n",
       "    <tr>\n",
       "      <th>61496</th>\n",
       "      <td>2017</td>\n",
       "      <td>2025-08-15</td>\n",
       "      <td>0</td>\n",
       "    </tr>\n",
       "    <tr>\n",
       "      <th>61497</th>\n",
       "      <td>9493</td>\n",
       "      <td>2025-08-01</td>\n",
       "      <td>0</td>\n",
       "    </tr>\n",
       "    <tr>\n",
       "      <th>61498</th>\n",
       "      <td>2344</td>\n",
       "      <td>2025-08-12</td>\n",
       "      <td>0</td>\n",
       "    </tr>\n",
       "    <tr>\n",
       "      <th>61499</th>\n",
       "      <td>9310</td>\n",
       "      <td>2025-08-20</td>\n",
       "      <td>0</td>\n",
       "    </tr>\n",
       "    <tr>\n",
       "      <th>61500</th>\n",
       "      <td>6343</td>\n",
       "      <td>2025-08-20</td>\n",
       "      <td>0</td>\n",
       "    </tr>\n",
       "  </tbody>\n",
       "</table>\n",
       "<p>61440 rows × 3 columns</p>\n",
       "</div>"
      ],
      "text/plain": [
       "       user_id       date  converted\n",
       "0         2518 2025-08-04          0\n",
       "1         1157 2025-08-16          0\n",
       "2         1240 2025-08-11          0\n",
       "3         9009 2025-08-20          0\n",
       "4         8494 2025-08-08          0\n",
       "...        ...        ...        ...\n",
       "61496     2017 2025-08-15          0\n",
       "61497     9493 2025-08-01          0\n",
       "61498     2344 2025-08-12          0\n",
       "61499     9310 2025-08-20          0\n",
       "61500     6343 2025-08-20          0\n",
       "\n",
       "[61440 rows x 3 columns]"
      ]
     },
     "execution_count": 37,
     "metadata": {},
     "output_type": "execute_result"
    }
   ],
   "source": [
    "# Визначення періоду\n",
    "start_date = '2025-08-01'\n",
    "end_date = '2025-08-20'\n",
    "# Фільтрація\n",
    "daily_df = daily_df[(daily_df['date'] >= start_date) & (df['date'] <= end_date)]\n",
    "daily_df"
   ]
  },
  {
   "cell_type": "markdown",
   "id": "bc4babf6-24e4-4d01-af23-8e5be459fc5b",
   "metadata": {},
   "source": [
    "Дивимось на дублікати"
   ]
  },
  {
   "cell_type": "code",
   "execution_count": 38,
   "id": "4b86eb0b-7420-4f5a-99e7-3b7b8067fc68",
   "metadata": {
    "execution": {
     "iopub.execute_input": "2025-09-08T07:52:45.493479Z",
     "iopub.status.busy": "2025-09-08T07:52:45.492483Z",
     "iopub.status.idle": "2025-09-08T07:52:45.524717Z",
     "shell.execute_reply": "2025-09-08T07:52:45.522702Z",
     "shell.execute_reply.started": "2025-09-08T07:52:45.493479Z"
    }
   },
   "outputs": [
    {
     "data": {
      "text/html": [
       "<div>\n",
       "<style scoped>\n",
       "    .dataframe tbody tr th:only-of-type {\n",
       "        vertical-align: middle;\n",
       "    }\n",
       "\n",
       "    .dataframe tbody tr th {\n",
       "        vertical-align: top;\n",
       "    }\n",
       "\n",
       "    .dataframe thead th {\n",
       "        text-align: right;\n",
       "    }\n",
       "</style>\n",
       "<table border=\"1\" class=\"dataframe\">\n",
       "  <thead>\n",
       "    <tr style=\"text-align: right;\">\n",
       "      <th></th>\n",
       "      <th>user_id</th>\n",
       "      <th>date</th>\n",
       "      <th>converted</th>\n",
       "    </tr>\n",
       "  </thead>\n",
       "  <tbody>\n",
       "    <tr>\n",
       "      <th>40</th>\n",
       "      <td>740</td>\n",
       "      <td>2025-08-04</td>\n",
       "      <td>0</td>\n",
       "    </tr>\n",
       "    <tr>\n",
       "      <th>55</th>\n",
       "      <td>7606</td>\n",
       "      <td>2025-08-05</td>\n",
       "      <td>0</td>\n",
       "    </tr>\n",
       "    <tr>\n",
       "      <th>80</th>\n",
       "      <td>610</td>\n",
       "      <td>2025-08-01</td>\n",
       "      <td>0</td>\n",
       "    </tr>\n",
       "    <tr>\n",
       "      <th>97</th>\n",
       "      <td>6541</td>\n",
       "      <td>2025-08-13</td>\n",
       "      <td>0</td>\n",
       "    </tr>\n",
       "    <tr>\n",
       "      <th>126</th>\n",
       "      <td>6233</td>\n",
       "      <td>2025-08-14</td>\n",
       "      <td>0</td>\n",
       "    </tr>\n",
       "    <tr>\n",
       "      <th>...</th>\n",
       "      <td>...</td>\n",
       "      <td>...</td>\n",
       "      <td>...</td>\n",
       "    </tr>\n",
       "    <tr>\n",
       "      <th>61389</th>\n",
       "      <td>5714</td>\n",
       "      <td>2025-08-19</td>\n",
       "      <td>0</td>\n",
       "    </tr>\n",
       "    <tr>\n",
       "      <th>61418</th>\n",
       "      <td>1040</td>\n",
       "      <td>2025-08-09</td>\n",
       "      <td>0</td>\n",
       "    </tr>\n",
       "    <tr>\n",
       "      <th>61439</th>\n",
       "      <td>6160</td>\n",
       "      <td>2025-08-17</td>\n",
       "      <td>0</td>\n",
       "    </tr>\n",
       "    <tr>\n",
       "      <th>61451</th>\n",
       "      <td>6970</td>\n",
       "      <td>2025-08-12</td>\n",
       "      <td>0</td>\n",
       "    </tr>\n",
       "    <tr>\n",
       "      <th>61466</th>\n",
       "      <td>5949</td>\n",
       "      <td>2025-08-16</td>\n",
       "      <td>0</td>\n",
       "    </tr>\n",
       "  </tbody>\n",
       "</table>\n",
       "<p>2410 rows × 3 columns</p>\n",
       "</div>"
      ],
      "text/plain": [
       "       user_id       date  converted\n",
       "40         740 2025-08-04          0\n",
       "55        7606 2025-08-05          0\n",
       "80         610 2025-08-01          0\n",
       "97        6541 2025-08-13          0\n",
       "126       6233 2025-08-14          0\n",
       "...        ...        ...        ...\n",
       "61389     5714 2025-08-19          0\n",
       "61418     1040 2025-08-09          0\n",
       "61439     6160 2025-08-17          0\n",
       "61451     6970 2025-08-12          0\n",
       "61466     5949 2025-08-16          0\n",
       "\n",
       "[2410 rows x 3 columns]"
      ]
     },
     "execution_count": 38,
     "metadata": {},
     "output_type": "execute_result"
    }
   ],
   "source": [
    "duplicates = daily_df[daily_df.duplicated(subset=[\"user_id\", \"date\"], keep=False)]\n",
    "duplicates"
   ]
  },
  {
   "cell_type": "markdown",
   "id": "5cb2bb1d-7ca3-4cee-bf48-2ac2e81f70be",
   "metadata": {},
   "source": [
    "Видаляємо дублікати"
   ]
  },
  {
   "cell_type": "code",
   "execution_count": 39,
   "id": "e60244c1-e1f5-425b-b9fc-17770ecedc14",
   "metadata": {
    "execution": {
     "iopub.execute_input": "2025-09-08T07:52:51.775664Z",
     "iopub.status.busy": "2025-09-08T07:52:51.774670Z",
     "iopub.status.idle": "2025-09-08T07:52:51.798860Z",
     "shell.execute_reply": "2025-09-08T07:52:51.797601Z",
     "shell.execute_reply.started": "2025-09-08T07:52:51.775664Z"
    }
   },
   "outputs": [],
   "source": [
    "daily_df = daily_df.drop_duplicates(subset=[\"user_id\", \"date\"], keep=\"first\")"
   ]
  },
  {
   "cell_type": "markdown",
   "id": "9e41e626-dfa1-4f8a-b617-c48c2d352ac7",
   "metadata": {},
   "source": [
    "Дивимось на зміну кількості строк"
   ]
  },
  {
   "cell_type": "code",
   "execution_count": 40,
   "id": "59a94e0b-246c-466f-8017-df796a46d802",
   "metadata": {
    "execution": {
     "iopub.execute_input": "2025-09-08T07:52:55.630510Z",
     "iopub.status.busy": "2025-09-08T07:52:55.630510Z",
     "iopub.status.idle": "2025-09-08T07:52:55.651747Z",
     "shell.execute_reply": "2025-09-08T07:52:55.650345Z",
     "shell.execute_reply.started": "2025-09-08T07:52:55.630510Z"
    }
   },
   "outputs": [
    {
     "data": {
      "text/plain": [
       "60235"
      ]
     },
     "execution_count": 40,
     "metadata": {},
     "output_type": "execute_result"
    }
   ],
   "source": [
    "len(daily_df)"
   ]
  },
  {
   "cell_type": "markdown",
   "id": "55b8d0d8-bea2-42e6-abaa-808ff269a5ff",
   "metadata": {},
   "source": [
    "Оновлюємо сторінку"
   ]
  },
  {
   "cell_type": "code",
   "execution_count": 41,
   "id": "a97eaa12-1ebc-437f-85ad-53d844664a8c",
   "metadata": {
    "execution": {
     "iopub.execute_input": "2025-09-08T07:52:58.681763Z",
     "iopub.status.busy": "2025-09-08T07:52:58.681763Z",
     "iopub.status.idle": "2025-09-08T07:52:58.697713Z",
     "shell.execute_reply": "2025-09-08T07:52:58.696680Z",
     "shell.execute_reply.started": "2025-09-08T07:52:58.681763Z"
    }
   },
   "outputs": [],
   "source": [
    "all_sheets[\"daily\"] = daily_df"
   ]
  },
  {
   "cell_type": "markdown",
   "id": "c13edf9d-5f0b-469a-8a3e-2ab6b66d2a0f",
   "metadata": {},
   "source": [
    "Крок 5: \n",
    "Зберігаємо у файл Excel"
   ]
  },
  {
   "cell_type": "code",
   "execution_count": 42,
   "id": "84333ce2-2162-448f-ad6b-659cb2e41789",
   "metadata": {
    "execution": {
     "iopub.execute_input": "2025-09-08T07:53:15.258580Z",
     "iopub.status.busy": "2025-09-08T07:53:15.257156Z",
     "iopub.status.idle": "2025-09-08T07:53:30.956523Z",
     "shell.execute_reply": "2025-09-08T07:53:30.954319Z",
     "shell.execute_reply.started": "2025-09-08T07:53:15.257156Z"
    }
   },
   "outputs": [],
   "source": [
    "with pd.ExcelWriter('a_b_test_new.xlsx', engine='openpyxl') as writer:\n",
    "    for sheet_name, df in all_sheets.items():\n",
    "        df.to_excel(writer, sheet_name=sheet_name, index=False)"
   ]
  },
  {
   "cell_type": "markdown",
   "id": "6dca9c5b-4d1c-4393-96e8-0278e04a056f",
   "metadata": {},
   "source": [
    "Підгружаємо дані в PostgreSql"
   ]
  },
  {
   "cell_type": "code",
   "execution_count": 44,
   "id": "4df288c9-0ccb-40f4-a264-4e466c4f8d6b",
   "metadata": {
    "execution": {
     "iopub.execute_input": "2025-09-08T07:56:44.739615Z",
     "iopub.status.busy": "2025-09-08T07:56:44.738590Z",
     "iopub.status.idle": "2025-09-08T07:56:44.748451Z",
     "shell.execute_reply": "2025-09-08T07:56:44.747450Z",
     "shell.execute_reply.started": "2025-09-08T07:56:44.739615Z"
    }
   },
   "outputs": [],
   "source": [
    "# 🔹 Параметри підключення\n",
    "user = \"postgres\"\n",
    "password = PASSWORD\n",
    "host = \"localhost\"\n",
    "port = \"5432\"\n",
    "database = \"ab_test_v16\""
   ]
  },
  {
   "cell_type": "code",
   "execution_count": 45,
   "id": "62bae8bc-7418-4823-8935-c864ad48999c",
   "metadata": {
    "execution": {
     "iopub.execute_input": "2025-09-08T07:56:48.817812Z",
     "iopub.status.busy": "2025-09-08T07:56:48.817812Z",
     "iopub.status.idle": "2025-09-08T07:57:00.046728Z",
     "shell.execute_reply": "2025-09-08T07:57:00.045698Z",
     "shell.execute_reply.started": "2025-09-08T07:56:48.817812Z"
    }
   },
   "outputs": [],
   "source": [
    "# 🔹 Створюємо SQLAlchemy engine\n",
    "engine = create_engine(f'postgresql+psycopg2://{user}:{password}@{host}:{port}/{database}')\n",
    "\n",
    "# 🔹 Шлях до Excel\n",
    "excel_file = r\"C:\\Users\\Дарья\\Desktop\\jupyter\\a_b_test_new.xlsx\"\n",
    "\n",
    "# 🔹 Читаємо всі листи\n",
    "sheets = pd.read_excel(excel_file, sheet_name=None)"
   ]
  },
  {
   "cell_type": "code",
   "execution_count": 43,
   "id": "74c71b2f-e07e-44a9-846e-d775c393aba8",
   "metadata": {
    "execution": {
     "iopub.execute_input": "2025-09-03T07:55:19.249584Z",
     "iopub.status.busy": "2025-09-03T07:55:19.248589Z",
     "iopub.status.idle": "2025-09-03T07:55:22.254954Z",
     "shell.execute_reply": "2025-09-03T07:55:22.253645Z",
     "shell.execute_reply.started": "2025-09-03T07:55:19.249584Z"
    }
   },
   "outputs": [
    {
     "name": "stdout",
     "output_type": "stream",
     "text": [
      "Обробляю лист: device\n",
      "Обробляю лист: country\n",
      "Обробляю лист: group\n",
      "Обробляю лист: user\n",
      "Обробляю лист: daily\n",
      "✅ Усі листи з Excel завантажено в PostgreSQL!\n"
     ]
    }
   ],
   "source": [
    "# 🔹 Завантаження кожного листа в PostgreSQL\n",
    "for sheet_name, df in sheets.items():\n",
    "    print(f\"Обробляю лист: {sheet_name}\")\n",
    "\n",
    "    # Очистка назв колонок (пробіли → \"_\")\n",
    "    df.columns = [col.strip().replace(\" \", \"_\") for col in df.columns]\n",
    "\n",
    "    # Завантаження в PostgreSQL (replace якщо таблиця існує)\n",
    "    df.to_sql(sheet_name, engine, if_exists='replace', index=False)\n",
    "\n",
    "print(\"✅ Усі листи з Excel завантажено в PostgreSQL!\")"
   ]
  },
  {
   "cell_type": "markdown",
   "id": "4906e578-afb6-46a0-9ae9-aaaf5a204666",
   "metadata": {},
   "source": [
    "Підгружаємо з PostgreSql view для аналізу A/B-тесту"
   ]
  },
  {
   "cell_type": "code",
   "execution_count": 46,
   "id": "a9c5ee61-4a66-4545-9a44-16d295c2275d",
   "metadata": {
    "execution": {
     "iopub.execute_input": "2025-09-08T07:57:00.050902Z",
     "iopub.status.busy": "2025-09-08T07:57:00.050902Z",
     "iopub.status.idle": "2025-09-08T07:57:00.560178Z",
     "shell.execute_reply": "2025-09-08T07:57:00.558120Z",
     "shell.execute_reply.started": "2025-09-08T07:57:00.050902Z"
    }
   },
   "outputs": [],
   "source": [
    "df = pd.read_sql(\"SELECT * FROM v_ab_test\", engine)"
   ]
  },
  {
   "cell_type": "code",
   "execution_count": 47,
   "id": "c5fd1ba8-72b6-4e7d-894a-b7228ea93c94",
   "metadata": {
    "execution": {
     "iopub.execute_input": "2025-09-08T07:57:00.563246Z",
     "iopub.status.busy": "2025-09-08T07:57:00.562250Z",
     "iopub.status.idle": "2025-09-08T07:57:00.689529Z",
     "shell.execute_reply": "2025-09-08T07:57:00.683552Z",
     "shell.execute_reply.started": "2025-09-08T07:57:00.563246Z"
    }
   },
   "outputs": [
    {
     "data": {
      "text/html": [
       "<div>\n",
       "<style scoped>\n",
       "    .dataframe tbody tr th:only-of-type {\n",
       "        vertical-align: middle;\n",
       "    }\n",
       "\n",
       "    .dataframe tbody tr th {\n",
       "        vertical-align: top;\n",
       "    }\n",
       "\n",
       "    .dataframe thead th {\n",
       "        text-align: right;\n",
       "    }\n",
       "</style>\n",
       "<table border=\"1\" class=\"dataframe\">\n",
       "  <thead>\n",
       "    <tr style=\"text-align: right;\">\n",
       "      <th></th>\n",
       "      <th>user_id</th>\n",
       "      <th>group_label</th>\n",
       "      <th>country_code</th>\n",
       "      <th>device_name</th>\n",
       "      <th>date</th>\n",
       "      <th>converted</th>\n",
       "    </tr>\n",
       "  </thead>\n",
       "  <tbody>\n",
       "    <tr>\n",
       "      <th>0</th>\n",
       "      <td>2518</td>\n",
       "      <td>B</td>\n",
       "      <td>BR</td>\n",
       "      <td>Mobile</td>\n",
       "      <td>2025-08-04</td>\n",
       "      <td>0.0</td>\n",
       "    </tr>\n",
       "    <tr>\n",
       "      <th>1</th>\n",
       "      <td>1157</td>\n",
       "      <td>B</td>\n",
       "      <td>IN</td>\n",
       "      <td>Mobile</td>\n",
       "      <td>2025-08-16</td>\n",
       "      <td>0.0</td>\n",
       "    </tr>\n",
       "    <tr>\n",
       "      <th>2</th>\n",
       "      <td>1240</td>\n",
       "      <td>A</td>\n",
       "      <td>IN</td>\n",
       "      <td>Tablet</td>\n",
       "      <td>2025-08-11</td>\n",
       "      <td>0.0</td>\n",
       "    </tr>\n",
       "    <tr>\n",
       "      <th>3</th>\n",
       "      <td>9009</td>\n",
       "      <td>A</td>\n",
       "      <td>IN</td>\n",
       "      <td>Desktop</td>\n",
       "      <td>2025-08-20</td>\n",
       "      <td>0.0</td>\n",
       "    </tr>\n",
       "    <tr>\n",
       "      <th>4</th>\n",
       "      <td>8494</td>\n",
       "      <td>B</td>\n",
       "      <td>FR</td>\n",
       "      <td>Mobile</td>\n",
       "      <td>2025-08-08</td>\n",
       "      <td>0.0</td>\n",
       "    </tr>\n",
       "    <tr>\n",
       "      <th>...</th>\n",
       "      <td>...</td>\n",
       "      <td>...</td>\n",
       "      <td>...</td>\n",
       "      <td>...</td>\n",
       "      <td>...</td>\n",
       "      <td>...</td>\n",
       "    </tr>\n",
       "    <tr>\n",
       "      <th>60234</th>\n",
       "      <td>6343</td>\n",
       "      <td>B</td>\n",
       "      <td>IN</td>\n",
       "      <td>Mobile</td>\n",
       "      <td>2025-08-20</td>\n",
       "      <td>0.0</td>\n",
       "    </tr>\n",
       "    <tr>\n",
       "      <th>60235</th>\n",
       "      <td>1549</td>\n",
       "      <td>A</td>\n",
       "      <td>DE</td>\n",
       "      <td>Mobile</td>\n",
       "      <td>NaT</td>\n",
       "      <td>NaN</td>\n",
       "    </tr>\n",
       "    <tr>\n",
       "      <th>60236</th>\n",
       "      <td>7118</td>\n",
       "      <td>A</td>\n",
       "      <td>US</td>\n",
       "      <td>Mobile</td>\n",
       "      <td>NaT</td>\n",
       "      <td>NaN</td>\n",
       "    </tr>\n",
       "    <tr>\n",
       "      <th>60237</th>\n",
       "      <td>7485</td>\n",
       "      <td>B</td>\n",
       "      <td>BR</td>\n",
       "      <td>Mobile</td>\n",
       "      <td>NaT</td>\n",
       "      <td>NaN</td>\n",
       "    </tr>\n",
       "    <tr>\n",
       "      <th>60238</th>\n",
       "      <td>5991</td>\n",
       "      <td>B</td>\n",
       "      <td>DE</td>\n",
       "      <td>Desktop</td>\n",
       "      <td>NaT</td>\n",
       "      <td>NaN</td>\n",
       "    </tr>\n",
       "  </tbody>\n",
       "</table>\n",
       "<p>60239 rows × 6 columns</p>\n",
       "</div>"
      ],
      "text/plain": [
       "       user_id group_label country_code device_name       date  converted\n",
       "0         2518           B           BR      Mobile 2025-08-04        0.0\n",
       "1         1157           B           IN      Mobile 2025-08-16        0.0\n",
       "2         1240           A           IN      Tablet 2025-08-11        0.0\n",
       "3         9009           A           IN     Desktop 2025-08-20        0.0\n",
       "4         8494           B           FR      Mobile 2025-08-08        0.0\n",
       "...        ...         ...          ...         ...        ...        ...\n",
       "60234     6343           B           IN      Mobile 2025-08-20        0.0\n",
       "60235     1549           A           DE      Mobile        NaT        NaN\n",
       "60236     7118           A           US      Mobile        NaT        NaN\n",
       "60237     7485           B           BR      Mobile        NaT        NaN\n",
       "60238     5991           B           DE     Desktop        NaT        NaN\n",
       "\n",
       "[60239 rows x 6 columns]"
      ]
     },
     "execution_count": 47,
     "metadata": {},
     "output_type": "execute_result"
    }
   ],
   "source": [
    "df"
   ]
  },
  {
   "cell_type": "code",
   "execution_count": 48,
   "id": "330eb473-609b-4470-a6af-77db3ae60cea",
   "metadata": {
    "execution": {
     "iopub.execute_input": "2025-09-08T07:57:12.534845Z",
     "iopub.status.busy": "2025-09-08T07:57:12.533848Z",
     "iopub.status.idle": "2025-09-08T07:57:12.569470Z",
     "shell.execute_reply": "2025-09-08T07:57:12.568195Z",
     "shell.execute_reply.started": "2025-09-08T07:57:12.534845Z"
    }
   },
   "outputs": [
    {
     "data": {
      "text/plain": [
       "user_id         0\n",
       "group_label     0\n",
       "country_code    0\n",
       "device_name     0\n",
       "date            4\n",
       "converted       4\n",
       "dtype: int64"
      ]
     },
     "execution_count": 48,
     "metadata": {},
     "output_type": "execute_result"
    }
   ],
   "source": [
    "df.isnull().sum()"
   ]
  },
  {
   "cell_type": "code",
   "execution_count": 49,
   "id": "6c6596c9-ac9f-440a-8801-2dd99a1f0943",
   "metadata": {
    "execution": {
     "iopub.execute_input": "2025-09-08T07:57:14.828160Z",
     "iopub.status.busy": "2025-09-08T07:57:14.827162Z",
     "iopub.status.idle": "2025-09-08T07:57:14.864425Z",
     "shell.execute_reply": "2025-09-08T07:57:14.863373Z",
     "shell.execute_reply.started": "2025-09-08T07:57:14.828160Z"
    }
   },
   "outputs": [
    {
     "data": {
      "text/plain": [
       "1812"
      ]
     },
     "execution_count": 49,
     "metadata": {},
     "output_type": "execute_result"
    }
   ],
   "source": [
    "converted_users_A = df[(df[\"group_label\"] == \"A\") & (df[\"converted\"] == 1)][\"user_id\"].nunique()\n",
    "converted_users_A"
   ]
  },
  {
   "cell_type": "code",
   "execution_count": 50,
   "id": "0035b8d6-b45d-4774-95ee-ee7ccc8c5d37",
   "metadata": {
    "execution": {
     "iopub.execute_input": "2025-09-08T07:57:17.185222Z",
     "iopub.status.busy": "2025-09-08T07:57:17.184040Z",
     "iopub.status.idle": "2025-09-08T07:57:17.212540Z",
     "shell.execute_reply": "2025-09-08T07:57:17.211151Z",
     "shell.execute_reply.started": "2025-09-08T07:57:17.185222Z"
    }
   },
   "outputs": [
    {
     "data": {
      "text/plain": [
       "4967"
      ]
     },
     "execution_count": 50,
     "metadata": {},
     "output_type": "execute_result"
    }
   ],
   "source": [
    "total_users_A = df[df[\"group_label\"] == \"A\"][\"user_id\"].nunique()\n",
    "total_users_A"
   ]
  },
  {
   "cell_type": "code",
   "execution_count": 51,
   "id": "53ae0d3a-67a7-4df4-b32d-1b294c8fa125",
   "metadata": {
    "execution": {
     "iopub.execute_input": "2025-09-08T07:57:19.425555Z",
     "iopub.status.busy": "2025-09-08T07:57:19.424475Z",
     "iopub.status.idle": "2025-09-08T07:57:19.459407Z",
     "shell.execute_reply": "2025-09-08T07:57:19.458082Z",
     "shell.execute_reply.started": "2025-09-08T07:57:19.425555Z"
    }
   },
   "outputs": [
    {
     "data": {
      "text/plain": [
       "2313"
      ]
     },
     "execution_count": 51,
     "metadata": {},
     "output_type": "execute_result"
    }
   ],
   "source": [
    "converted_users_B = df[(df[\"group_label\"] == \"B\") & (df[\"converted\"] == 1)][\"user_id\"].nunique()\n",
    "converted_users_B"
   ]
  },
  {
   "cell_type": "code",
   "execution_count": 52,
   "id": "61b5ed34-35f4-4115-a17d-7a3af985183b",
   "metadata": {
    "execution": {
     "iopub.execute_input": "2025-09-08T07:57:21.322451Z",
     "iopub.status.busy": "2025-09-08T07:57:21.321154Z",
     "iopub.status.idle": "2025-09-08T07:57:21.356717Z",
     "shell.execute_reply": "2025-09-08T07:57:21.354724Z",
     "shell.execute_reply.started": "2025-09-08T07:57:21.321154Z"
    }
   },
   "outputs": [
    {
     "data": {
      "text/plain": [
       "5033"
      ]
     },
     "execution_count": 52,
     "metadata": {},
     "output_type": "execute_result"
    }
   ],
   "source": [
    "total_users_B = df[df[\"group_label\"] == \"B\"][\"user_id\"].nunique()\n",
    "total_users_B"
   ]
  },
  {
   "cell_type": "code",
   "execution_count": 53,
   "id": "e383130b-14d8-47f5-a806-b9bd3bc19ae2",
   "metadata": {
    "execution": {
     "iopub.execute_input": "2025-09-08T07:57:24.002941Z",
     "iopub.status.busy": "2025-09-08T07:57:24.001816Z",
     "iopub.status.idle": "2025-09-08T07:57:24.010655Z",
     "shell.execute_reply": "2025-09-08T07:57:24.009659Z",
     "shell.execute_reply.started": "2025-09-08T07:57:24.001816Z"
    }
   },
   "outputs": [
    {
     "name": "stdout",
     "output_type": "stream",
     "text": [
      "Конверсія A: 36.48%\n",
      "Конверсія B: 45.96%\n"
     ]
    }
   ],
   "source": [
    "# Розрахунок конверсії\n",
    "conversion_rate_A = converted_users_A/ total_users_A\n",
    "conversion_rate_B = converted_users_B/ total_users_B\n",
    "\n",
    "print(f\"Конверсія A: {conversion_rate_A * 100:.2f}%\")\n",
    "print(f\"Конверсія B: {conversion_rate_B * 100:.2f}%\")"
   ]
  },
  {
   "cell_type": "code",
   "execution_count": 71,
   "id": "e35230fb-baff-4192-8276-aa1608a49ed8",
   "metadata": {
    "execution": {
     "iopub.execute_input": "2025-09-08T09:57:17.003210Z",
     "iopub.status.busy": "2025-09-08T09:57:17.000185Z",
     "iopub.status.idle": "2025-09-08T09:57:17.053038Z",
     "shell.execute_reply": "2025-09-08T09:57:17.049050Z",
     "shell.execute_reply.started": "2025-09-08T09:57:17.003210Z"
    }
   },
   "outputs": [
    {
     "name": "stdout",
     "output_type": "stream",
     "text": [
      "Абсолютна різниця конверсії: 9.48 p.p.\n",
      "Відносна різниця конверсії: 25.98%\n"
     ]
    }
   ],
   "source": [
    "# Розрахунок абсолютної та відносної різниці в конверсії між групами\n",
    "abs_diff = conversion_rate_B - conversion_rate_A\n",
    "rel_diff = (conversion_rate_B  - conversion_rate_A) / conversion_rate_A\n",
    "\n",
    "print(f\"Абсолютна різниця конверсії: {abs_diff * 100:.2F} p.p.\")\n",
    "print(f\"Відносна різниця конверсії: {rel_diff * 100:.2F}%\")"
   ]
  },
  {
   "cell_type": "code",
   "execution_count": 72,
   "id": "77a3bcdb-ac6a-48db-afcc-f842edd6b5e8",
   "metadata": {
    "execution": {
     "iopub.execute_input": "2025-09-08T09:57:24.951461Z",
     "iopub.status.busy": "2025-09-08T09:57:24.950158Z",
     "iopub.status.idle": "2025-09-08T09:57:24.981391Z",
     "shell.execute_reply": "2025-09-08T09:57:24.978058Z",
     "shell.execute_reply.started": "2025-09-08T09:57:24.951461Z"
    }
   },
   "outputs": [
    {
     "name": "stdout",
     "output_type": "stream",
     "text": [
      "Z-статистика: 9.624\n",
      "p-value: 0.0000\n"
     ]
    }
   ],
   "source": [
    "# Z-тест\n",
    "\n",
    "# Обчислення зведеної конверсії (pooled)\n",
    "p_pool = (converted_users_A + converted_users_B) / (total_users_A + total_users_B)\n",
    "\n",
    "# Стандартна помилка\n",
    "SE = (p_pool * (1 - p_pool) * (1/total_users_A + 1/total_users_B)) ** 0.5\n",
    "\n",
    "# Z-статистика\n",
    "Z = (conversion_rate_B - conversion_rate_A) / SE\n",
    "\n",
    "# Двостороннє p-value\n",
    "p_value = 2 * (1 - stats.norm.cdf(abs(Z)))\n",
    "print(f\"Z-статистика: {Z:.3f}\")\n",
    "print(f\"p-value: {p_value:.4f}\")"
   ]
  },
  {
   "cell_type": "code",
   "execution_count": 56,
   "id": "003d8608-0acf-4d11-9591-7c55e90b5e25",
   "metadata": {
    "execution": {
     "iopub.execute_input": "2025-09-08T07:57:33.459107Z",
     "iopub.status.busy": "2025-09-08T07:57:33.459107Z",
     "iopub.status.idle": "2025-09-08T07:57:33.483228Z",
     "shell.execute_reply": "2025-09-08T07:57:33.482103Z",
     "shell.execute_reply.started": "2025-09-08T07:57:33.459107Z"
    }
   },
   "outputs": [
    {
     "name": "stdout",
     "output_type": "stream",
     "text": [
      "Відхиляємо нульову гіпотезу: новий промоекран має статистично значущий ефект.\n"
     ]
    }
   ],
   "source": [
    "# Чи можно відхилити нульову гіпотезу?\n",
    "\n",
    "alpha = 0.05\n",
    "if p_value < alpha:\n",
    "    print(\"Відхиляємо нульову гіпотезу: новий промоекран має статистично значущий ефект.\")\n",
    "else:\n",
    "    print(\"Не можемо відхилити нульову гіпотезу: ефект не є статистично значущим.\")"
   ]
  },
  {
   "cell_type": "code",
   "execution_count": 57,
   "id": "7ec1caf7-0660-41c7-a3c5-864d594aa605",
   "metadata": {
    "execution": {
     "iopub.execute_input": "2025-09-08T07:57:39.872015Z",
     "iopub.status.busy": "2025-09-08T07:57:39.870994Z",
     "iopub.status.idle": "2025-09-08T07:57:39.894131Z",
     "shell.execute_reply": "2025-09-08T07:57:39.892901Z",
     "shell.execute_reply.started": "2025-09-08T07:57:39.872015Z"
    }
   },
   "outputs": [],
   "source": [
    "grouped = df.groupby('group_label')['converted'].agg(['sum', 'count'])"
   ]
  },
  {
   "cell_type": "code",
   "execution_count": 73,
   "id": "6d1a08ec-76c5-47bf-b384-beecbd3ab218",
   "metadata": {
    "execution": {
     "iopub.execute_input": "2025-09-08T09:57:32.631503Z",
     "iopub.status.busy": "2025-09-08T09:57:32.631503Z",
     "iopub.status.idle": "2025-09-08T09:57:32.682762Z",
     "shell.execute_reply": "2025-09-08T09:57:32.677938Z",
     "shell.execute_reply.started": "2025-09-08T09:57:32.631503Z"
    }
   },
   "outputs": [
    {
     "name": "stdout",
     "output_type": "stream",
     "text": [
      "Група A: 95% CI = 0.072 – 0.078\n",
      "Група B: 95% CI = 0.100 – 0.106\n"
     ]
    },
    {
     "name": "stderr",
     "output_type": "stream",
     "text": [
      "C:\\Users\\Дарья\\AppData\\Local\\Temp\\ipykernel_15568\\2985493340.py:9: FutureWarning: Series.__getitem__ treating keys as positions is deprecated. In a future version, integer keys will always be treated as labels (consistent with DataFrame behavior). To access a value by position, use `ser.iloc[pos]`\n",
      "  print(f\"Група {label}: 95% CI = {ci_low[i]:.3f} – {ci_upp[i]:.3f}\")\n"
     ]
    }
   ],
   "source": [
    "ci_low, ci_upp = proportion_confint(\n",
    "    count=grouped['sum'], \n",
    "    nobs=grouped['count'], \n",
    "    alpha=0.05, \n",
    "    method='wilson'\n",
    ")\n",
    "\n",
    "for i, label in enumerate(grouped.index):\n",
    "    print(f\"Група {label}: 95% CI = {ci_low[i]:.3f} – {ci_upp[i]:.3f}\")"
   ]
  },
  {
   "cell_type": "code",
   "execution_count": 59,
   "id": "7418fa0b-8613-4e4a-9701-c5a41e479913",
   "metadata": {
    "execution": {
     "iopub.execute_input": "2025-09-08T07:58:00.681242Z",
     "iopub.status.busy": "2025-09-08T07:58:00.679248Z",
     "iopub.status.idle": "2025-09-08T07:58:00.933323Z",
     "shell.execute_reply": "2025-09-08T07:58:00.931329Z",
     "shell.execute_reply.started": "2025-09-08T07:58:00.680246Z"
    }
   },
   "outputs": [
    {
     "name": "stderr",
     "output_type": "stream",
     "text": [
      "C:\\Users\\Дарья\\AppData\\Local\\Temp\\ipykernel_15568\\2630816674.py:7: FutureWarning: Series.__getitem__ treating keys as positions is deprecated. In a future version, integer keys will always be treated as labels (consistent with DataFrame behavior). To access a value by position, use `ser.iloc[pos]`\n",
      "  \"ci_low\": [round(ci_low[0], 3), round(ci_low[1], 3)],\n",
      "C:\\Users\\Дарья\\AppData\\Local\\Temp\\ipykernel_15568\\2630816674.py:8: FutureWarning: Series.__getitem__ treating keys as positions is deprecated. In a future version, integer keys will always be treated as labels (consistent with DataFrame behavior). To access a value by position, use `ser.iloc[pos]`\n",
      "  \"ci_upp\": [round(ci_upp[0], 3), round(ci_upp[1], 3)]\n"
     ]
    },
    {
     "data": {
      "text/plain": [
       "2"
      ]
     },
     "execution_count": 59,
     "metadata": {},
     "output_type": "execute_result"
    }
   ],
   "source": [
    "# Формуємо таблицю\n",
    "df_groups = pd.DataFrame({\n",
    "    \"group\": [\"A\", \"B\"],\n",
    "    \"total_users\": [total_users_A, total_users_B],\n",
    "    \"converted_users\": [converted_users_A, converted_users_B],\n",
    "    \"conversion_rate\": [round(conversion_rate_A, 3), round(conversion_rate_B, 3)],\n",
    "    \"ci_low\": [round(ci_low[0], 3), round(ci_low[1], 3)],\n",
    "    \"ci_upp\": [round(ci_upp[0], 3), round(ci_upp[1], 3)]\n",
    "})\n",
    "\n",
    "\n",
    "# ---- Збереження у PostgreSQL ----\n",
    "df_groups.to_sql(\"ab_test_groups\", con=engine, if_exists=\"replace\", index=False)"
   ]
  },
  {
   "cell_type": "code",
   "execution_count": 75,
   "id": "6ce05165-e9f0-45e1-8f2c-370008b50372",
   "metadata": {
    "execution": {
     "iopub.execute_input": "2025-09-08T10:03:18.654828Z",
     "iopub.status.busy": "2025-09-08T10:03:18.653834Z",
     "iopub.status.idle": "2025-09-08T10:03:18.735621Z",
     "shell.execute_reply": "2025-09-08T10:03:18.734543Z",
     "shell.execute_reply.started": "2025-09-08T10:03:18.654828Z"
    }
   },
   "outputs": [
    {
     "data": {
      "text/plain": [
       "1"
      ]
     },
     "execution_count": 75,
     "metadata": {},
     "output_type": "execute_result"
    }
   ],
   "source": [
    "# Додаємо ще одну таблицю з загальними метриками\n",
    "df_summary = pd.DataFrame([{\n",
    "    \"abs_diff\": round(abs_diff, 3),\n",
    "    \"rel_diff\": round(rel_diff, 4),   \n",
    "    \"z_score\": round(Z, 3),\n",
    "    \"p_value\": round(p_value, 4),\n",
    "    \"hypothesis_result\": \"Відхиляємо H0\" if p_value < 0.05 else \"Не відхиляємо H0\"\n",
    "}])\n",
    "\n",
    "df_summary.to_sql(\"ab_test_summary\", con=engine, if_exists=\"replace\", index=False)"
   ]
  },
  {
   "cell_type": "code",
   "execution_count": 63,
   "id": "7c09281e-2733-44ca-b37a-6865ab5a3f39",
   "metadata": {
    "execution": {
     "iopub.execute_input": "2025-09-08T08:00:55.211348Z",
     "iopub.status.busy": "2025-09-08T08:00:55.210351Z",
     "iopub.status.idle": "2025-09-08T08:00:55.469947Z",
     "shell.execute_reply": "2025-09-08T08:00:55.468863Z",
     "shell.execute_reply.started": "2025-09-08T08:00:55.211348Z"
    }
   },
   "outputs": [
    {
     "data": {
      "text/plain": [
       "56"
      ]
     },
     "execution_count": 63,
     "metadata": {},
     "output_type": "execute_result"
    }
   ],
   "source": [
    "combined_results = []\n",
    "alpha = 0.05\n",
    "\n",
    "# Групування по країні та пристрою\n",
    "for (country, device), sub_df in df.groupby(['country_code', 'device_name']):\n",
    "    for group in ['A', 'B']:\n",
    "        users = sub_df[sub_df[\"group_label\"] == group][\"user_id\"].nunique()\n",
    "        converted = sub_df[(sub_df[\"group_label\"] == group) & (sub_df[\"converted\"] == 1)][\"user_id\"].nunique()\n",
    "        conversion = converted / users if users > 0 else 0\n",
    "\n",
    "        combined_results.append({\n",
    "            'group_label': group,\n",
    "            'country_code': country,\n",
    "            'device_name': device,\n",
    "            'users': users,\n",
    "            'converted': converted,\n",
    "            'conversion_rate': round(conversion, 3)\n",
    "        })\n",
    "        \n",
    "# Тепер робимо DataFrame\n",
    "df_combined_long = pd.DataFrame(combined_results)\n",
    "\n",
    "df_combined_long.to_sql(\"ab_test_device_country\", con=engine, if_exists=\"replace\", index=False)"
   ]
  },
  {
   "cell_type": "code",
   "execution_count": 68,
   "id": "4f82923b-1a6c-49c7-bc7f-cff35589e932",
   "metadata": {
    "execution": {
     "iopub.execute_input": "2025-09-08T08:07:01.374553Z",
     "iopub.status.busy": "2025-09-08T08:07:01.373556Z",
     "iopub.status.idle": "2025-09-08T08:07:01.566357Z",
     "shell.execute_reply": "2025-09-08T08:07:01.563651Z",
     "shell.execute_reply.started": "2025-09-08T08:07:01.374553Z"
    }
   },
   "outputs": [
    {
     "name": "stderr",
     "output_type": "stream",
     "text": [
      "E:\\anaconda\\envs\\pydata-book\\lib\\site-packages\\statsmodels\\stats\\weightstats.py:792: RuntimeWarning: invalid value encountered in scalar divide\n",
      "  zstat = value / std\n"
     ]
    }
   ],
   "source": [
    "aggregated_results = []\n",
    "\n",
    "for (country, device), sub_df in df_combined_long.groupby(['country_code', 'device_name']):\n",
    "    if set(sub_df['group_label']) == {'A','B'}:\n",
    "        conv_A = sub_df.loc[sub_df['group_label']=='A', 'conversion_rate'].values[0]\n",
    "        conv_B = sub_df.loc[sub_df['group_label']=='B', 'conversion_rate'].values[0]\n",
    "        users_A = sub_df.loc[sub_df['group_label']=='A', 'users'].values[0]\n",
    "        users_B = sub_df.loc[sub_df['group_label']=='B', 'users'].values[0]\n",
    "        converted_A = sub_df.loc[sub_df['group_label']=='A', 'converted'].values[0]\n",
    "        converted_B = sub_df.loc[sub_df['group_label']=='B', 'converted'].values[0]\n",
    "\n",
    "    if users_A > 0 and users_B > 0:\n",
    "        lift = (conv_B - conv_A) / conv_A * 100 if conv_A > 0 else None\n",
    "\n",
    "        # z-test для пропорцій\n",
    "        count = [converted_B, converted_A]\n",
    "        nobs = [users_B, users_A]\n",
    "        stat, p_value = proportions_ztest(count, nobs)\n",
    "\n",
    "        # Висновок по H0\n",
    "        if p_value < alpha:\n",
    "            conclusion = \"Відхиляємо H0 (ефект значущий)\"\n",
    "        else:\n",
    "            conclusion = \"Не відхиляємо H0 (ефект незначущий)\"\n",
    "\n",
    "\n",
    "        aggregated_results.append({\n",
    "            'country': country,\n",
    "            'device': device,\n",
    "            'conversion_A': round(conv_A, 3),\n",
    "            'conversion_B': round(conv_B, 3),\n",
    "            'lift_%': round(lift, 2) if lift is not None else None,\n",
    "            'p_value': round(p_value, 4) if p_value is not None else None,\n",
    "            'hypothesis_result': conclusion\n",
    "        })\n",
    "\n",
    "df_combined = pd.DataFrame(aggregated_results)"
   ]
  },
  {
   "cell_type": "code",
   "execution_count": 69,
   "id": "32b07c3c-443d-477c-ba9d-8243c8a31f83",
   "metadata": {
    "execution": {
     "iopub.execute_input": "2025-09-08T08:07:13.026264Z",
     "iopub.status.busy": "2025-09-08T08:07:13.025243Z",
     "iopub.status.idle": "2025-09-08T08:07:13.064521Z",
     "shell.execute_reply": "2025-09-08T08:07:13.063312Z",
     "shell.execute_reply.started": "2025-09-08T08:07:13.026264Z"
    }
   },
   "outputs": [
    {
     "data": {
      "text/html": [
       "<div>\n",
       "<style scoped>\n",
       "    .dataframe tbody tr th:only-of-type {\n",
       "        vertical-align: middle;\n",
       "    }\n",
       "\n",
       "    .dataframe tbody tr th {\n",
       "        vertical-align: top;\n",
       "    }\n",
       "\n",
       "    .dataframe thead th {\n",
       "        text-align: right;\n",
       "    }\n",
       "</style>\n",
       "<table border=\"1\" class=\"dataframe\">\n",
       "  <thead>\n",
       "    <tr style=\"text-align: right;\">\n",
       "      <th></th>\n",
       "      <th>country</th>\n",
       "      <th>device</th>\n",
       "      <th>conversion_A</th>\n",
       "      <th>conversion_B</th>\n",
       "      <th>lift_%</th>\n",
       "      <th>p_value</th>\n",
       "      <th>hypothesis_result</th>\n",
       "    </tr>\n",
       "  </thead>\n",
       "  <tbody>\n",
       "    <tr>\n",
       "      <th>0</th>\n",
       "      <td>BR</td>\n",
       "      <td>Desktop</td>\n",
       "      <td>0.206</td>\n",
       "      <td>0.360</td>\n",
       "      <td>74.76</td>\n",
       "      <td>0.0001</td>\n",
       "      <td>Відхиляємо H0 (ефект значущий)</td>\n",
       "    </tr>\n",
       "    <tr>\n",
       "      <th>1</th>\n",
       "      <td>BR</td>\n",
       "      <td>Mobile</td>\n",
       "      <td>0.334</td>\n",
       "      <td>0.421</td>\n",
       "      <td>26.05</td>\n",
       "      <td>0.0025</td>\n",
       "      <td>Відхиляємо H0 (ефект значущий)</td>\n",
       "    </tr>\n",
       "    <tr>\n",
       "      <th>2</th>\n",
       "      <td>BR</td>\n",
       "      <td>Smartwatch</td>\n",
       "      <td>0.000</td>\n",
       "      <td>0.000</td>\n",
       "      <td>NaN</td>\n",
       "      <td>NaN</td>\n",
       "      <td>Не відхиляємо H0 (ефект незначущий)</td>\n",
       "    </tr>\n",
       "    <tr>\n",
       "      <th>3</th>\n",
       "      <td>BR</td>\n",
       "      <td>TV</td>\n",
       "      <td>1.000</td>\n",
       "      <td>0.000</td>\n",
       "      <td>-100.00</td>\n",
       "      <td>0.1573</td>\n",
       "      <td>Не відхиляємо H0 (ефект незначущий)</td>\n",
       "    </tr>\n",
       "    <tr>\n",
       "      <th>4</th>\n",
       "      <td>BR</td>\n",
       "      <td>Tablet</td>\n",
       "      <td>0.380</td>\n",
       "      <td>0.354</td>\n",
       "      <td>-6.84</td>\n",
       "      <td>0.6972</td>\n",
       "      <td>Не відхиляємо H0 (ефект незначущий)</td>\n",
       "    </tr>\n",
       "    <tr>\n",
       "      <th>5</th>\n",
       "      <td>DE</td>\n",
       "      <td>Desktop</td>\n",
       "      <td>0.227</td>\n",
       "      <td>0.352</td>\n",
       "      <td>55.07</td>\n",
       "      <td>0.0008</td>\n",
       "      <td>Відхиляємо H0 (ефект значущий)</td>\n",
       "    </tr>\n",
       "    <tr>\n",
       "      <th>6</th>\n",
       "      <td>DE</td>\n",
       "      <td>Mobile</td>\n",
       "      <td>0.361</td>\n",
       "      <td>0.475</td>\n",
       "      <td>31.58</td>\n",
       "      <td>0.0001</td>\n",
       "      <td>Відхиляємо H0 (ефект значущий)</td>\n",
       "    </tr>\n",
       "    <tr>\n",
       "      <th>7</th>\n",
       "      <td>DE</td>\n",
       "      <td>Smartwatch</td>\n",
       "      <td>0.500</td>\n",
       "      <td>0.000</td>\n",
       "      <td>-100.00</td>\n",
       "      <td>0.3865</td>\n",
       "      <td>Не відхиляємо H0 (ефект незначущий)</td>\n",
       "    </tr>\n",
       "    <tr>\n",
       "      <th>8</th>\n",
       "      <td>DE</td>\n",
       "      <td>TV</td>\n",
       "      <td>0.000</td>\n",
       "      <td>0.800</td>\n",
       "      <td>NaN</td>\n",
       "      <td>0.0285</td>\n",
       "      <td>Відхиляємо H0 (ефект значущий)</td>\n",
       "    </tr>\n",
       "    <tr>\n",
       "      <th>9</th>\n",
       "      <td>DE</td>\n",
       "      <td>Tablet</td>\n",
       "      <td>0.259</td>\n",
       "      <td>0.449</td>\n",
       "      <td>73.36</td>\n",
       "      <td>0.0039</td>\n",
       "      <td>Відхиляємо H0 (ефект значущий)</td>\n",
       "    </tr>\n",
       "    <tr>\n",
       "      <th>10</th>\n",
       "      <td>FR</td>\n",
       "      <td>Desktop</td>\n",
       "      <td>0.437</td>\n",
       "      <td>0.432</td>\n",
       "      <td>-1.14</td>\n",
       "      <td>0.9007</td>\n",
       "      <td>Не відхиляємо H0 (ефект незначущий)</td>\n",
       "    </tr>\n",
       "    <tr>\n",
       "      <th>11</th>\n",
       "      <td>FR</td>\n",
       "      <td>Mobile</td>\n",
       "      <td>0.532</td>\n",
       "      <td>0.564</td>\n",
       "      <td>6.02</td>\n",
       "      <td>0.2721</td>\n",
       "      <td>Не відхиляємо H0 (ефект незначущий)</td>\n",
       "    </tr>\n",
       "    <tr>\n",
       "      <th>12</th>\n",
       "      <td>FR</td>\n",
       "      <td>Smartwatch</td>\n",
       "      <td>1.000</td>\n",
       "      <td>1.000</td>\n",
       "      <td>0.00</td>\n",
       "      <td>NaN</td>\n",
       "      <td>Не відхиляємо H0 (ефект незначущий)</td>\n",
       "    </tr>\n",
       "    <tr>\n",
       "      <th>13</th>\n",
       "      <td>FR</td>\n",
       "      <td>TV</td>\n",
       "      <td>1.000</td>\n",
       "      <td>1.000</td>\n",
       "      <td>0.00</td>\n",
       "      <td>NaN</td>\n",
       "      <td>Не відхиляємо H0 (ефект незначущий)</td>\n",
       "    </tr>\n",
       "    <tr>\n",
       "      <th>14</th>\n",
       "      <td>FR</td>\n",
       "      <td>Tablet</td>\n",
       "      <td>0.548</td>\n",
       "      <td>0.562</td>\n",
       "      <td>2.55</td>\n",
       "      <td>0.8452</td>\n",
       "      <td>Не відхиляємо H0 (ефект незначущий)</td>\n",
       "    </tr>\n",
       "    <tr>\n",
       "      <th>15</th>\n",
       "      <td>IN</td>\n",
       "      <td>Desktop</td>\n",
       "      <td>0.318</td>\n",
       "      <td>0.447</td>\n",
       "      <td>40.57</td>\n",
       "      <td>0.0014</td>\n",
       "      <td>Відхиляємо H0 (ефект значущий)</td>\n",
       "    </tr>\n",
       "    <tr>\n",
       "      <th>16</th>\n",
       "      <td>IN</td>\n",
       "      <td>Mobile</td>\n",
       "      <td>0.451</td>\n",
       "      <td>0.510</td>\n",
       "      <td>13.08</td>\n",
       "      <td>0.0399</td>\n",
       "      <td>Відхиляємо H0 (ефект значущий)</td>\n",
       "    </tr>\n",
       "    <tr>\n",
       "      <th>17</th>\n",
       "      <td>IN</td>\n",
       "      <td>Smartwatch</td>\n",
       "      <td>1.000</td>\n",
       "      <td>1.000</td>\n",
       "      <td>0.00</td>\n",
       "      <td>NaN</td>\n",
       "      <td>Не відхиляємо H0 (ефект незначущий)</td>\n",
       "    </tr>\n",
       "    <tr>\n",
       "      <th>18</th>\n",
       "      <td>IN</td>\n",
       "      <td>TV</td>\n",
       "      <td>0.000</td>\n",
       "      <td>1.000</td>\n",
       "      <td>NaN</td>\n",
       "      <td>0.1573</td>\n",
       "      <td>Не відхиляємо H0 (ефект незначущий)</td>\n",
       "    </tr>\n",
       "    <tr>\n",
       "      <th>19</th>\n",
       "      <td>IN</td>\n",
       "      <td>Tablet</td>\n",
       "      <td>0.504</td>\n",
       "      <td>0.557</td>\n",
       "      <td>10.52</td>\n",
       "      <td>0.4468</td>\n",
       "      <td>Не відхиляємо H0 (ефект незначущий)</td>\n",
       "    </tr>\n",
       "    <tr>\n",
       "      <th>20</th>\n",
       "      <td>US</td>\n",
       "      <td>Desktop</td>\n",
       "      <td>0.241</td>\n",
       "      <td>0.389</td>\n",
       "      <td>61.41</td>\n",
       "      <td>0.0001</td>\n",
       "      <td>Відхиляємо H0 (ефект значущий)</td>\n",
       "    </tr>\n",
       "    <tr>\n",
       "      <th>21</th>\n",
       "      <td>US</td>\n",
       "      <td>Mobile</td>\n",
       "      <td>0.323</td>\n",
       "      <td>0.465</td>\n",
       "      <td>43.96</td>\n",
       "      <td>0.0000</td>\n",
       "      <td>Відхиляємо H0 (ефект значущий)</td>\n",
       "    </tr>\n",
       "    <tr>\n",
       "      <th>22</th>\n",
       "      <td>US</td>\n",
       "      <td>Smartwatch</td>\n",
       "      <td>1.000</td>\n",
       "      <td>0.000</td>\n",
       "      <td>-100.00</td>\n",
       "      <td>0.0833</td>\n",
       "      <td>Не відхиляємо H0 (ефект незначущий)</td>\n",
       "    </tr>\n",
       "    <tr>\n",
       "      <th>23</th>\n",
       "      <td>US</td>\n",
       "      <td>TV</td>\n",
       "      <td>1.000</td>\n",
       "      <td>1.000</td>\n",
       "      <td>0.00</td>\n",
       "      <td>NaN</td>\n",
       "      <td>Не відхиляємо H0 (ефект незначущий)</td>\n",
       "    </tr>\n",
       "    <tr>\n",
       "      <th>24</th>\n",
       "      <td>US</td>\n",
       "      <td>Tablet</td>\n",
       "      <td>0.188</td>\n",
       "      <td>0.447</td>\n",
       "      <td>137.77</td>\n",
       "      <td>0.0001</td>\n",
       "      <td>Відхиляємо H0 (ефект значущий)</td>\n",
       "    </tr>\n",
       "    <tr>\n",
       "      <th>25</th>\n",
       "      <td>XX</td>\n",
       "      <td>Desktop</td>\n",
       "      <td>0.000</td>\n",
       "      <td>0.250</td>\n",
       "      <td>NaN</td>\n",
       "      <td>0.3496</td>\n",
       "      <td>Не відхиляємо H0 (ефект незначущий)</td>\n",
       "    </tr>\n",
       "    <tr>\n",
       "      <th>26</th>\n",
       "      <td>XX</td>\n",
       "      <td>Mobile</td>\n",
       "      <td>0.375</td>\n",
       "      <td>0.500</td>\n",
       "      <td>33.33</td>\n",
       "      <td>0.5820</td>\n",
       "      <td>Не відхиляємо H0 (ефект незначущий)</td>\n",
       "    </tr>\n",
       "    <tr>\n",
       "      <th>27</th>\n",
       "      <td>XX</td>\n",
       "      <td>Tablet</td>\n",
       "      <td>0.500</td>\n",
       "      <td>1.000</td>\n",
       "      <td>100.00</td>\n",
       "      <td>0.2482</td>\n",
       "      <td>Не відхиляємо H0 (ефект незначущий)</td>\n",
       "    </tr>\n",
       "  </tbody>\n",
       "</table>\n",
       "</div>"
      ],
      "text/plain": [
       "   country      device  conversion_A  conversion_B  lift_%  p_value  \\\n",
       "0       BR     Desktop         0.206         0.360   74.76   0.0001   \n",
       "1       BR      Mobile         0.334         0.421   26.05   0.0025   \n",
       "2       BR  Smartwatch         0.000         0.000     NaN      NaN   \n",
       "3       BR          TV         1.000         0.000 -100.00   0.1573   \n",
       "4       BR      Tablet         0.380         0.354   -6.84   0.6972   \n",
       "5       DE     Desktop         0.227         0.352   55.07   0.0008   \n",
       "6       DE      Mobile         0.361         0.475   31.58   0.0001   \n",
       "7       DE  Smartwatch         0.500         0.000 -100.00   0.3865   \n",
       "8       DE          TV         0.000         0.800     NaN   0.0285   \n",
       "9       DE      Tablet         0.259         0.449   73.36   0.0039   \n",
       "10      FR     Desktop         0.437         0.432   -1.14   0.9007   \n",
       "11      FR      Mobile         0.532         0.564    6.02   0.2721   \n",
       "12      FR  Smartwatch         1.000         1.000    0.00      NaN   \n",
       "13      FR          TV         1.000         1.000    0.00      NaN   \n",
       "14      FR      Tablet         0.548         0.562    2.55   0.8452   \n",
       "15      IN     Desktop         0.318         0.447   40.57   0.0014   \n",
       "16      IN      Mobile         0.451         0.510   13.08   0.0399   \n",
       "17      IN  Smartwatch         1.000         1.000    0.00      NaN   \n",
       "18      IN          TV         0.000         1.000     NaN   0.1573   \n",
       "19      IN      Tablet         0.504         0.557   10.52   0.4468   \n",
       "20      US     Desktop         0.241         0.389   61.41   0.0001   \n",
       "21      US      Mobile         0.323         0.465   43.96   0.0000   \n",
       "22      US  Smartwatch         1.000         0.000 -100.00   0.0833   \n",
       "23      US          TV         1.000         1.000    0.00      NaN   \n",
       "24      US      Tablet         0.188         0.447  137.77   0.0001   \n",
       "25      XX     Desktop         0.000         0.250     NaN   0.3496   \n",
       "26      XX      Mobile         0.375         0.500   33.33   0.5820   \n",
       "27      XX      Tablet         0.500         1.000  100.00   0.2482   \n",
       "\n",
       "                      hypothesis_result  \n",
       "0        Відхиляємо H0 (ефект значущий)  \n",
       "1        Відхиляємо H0 (ефект значущий)  \n",
       "2   Не відхиляємо H0 (ефект незначущий)  \n",
       "3   Не відхиляємо H0 (ефект незначущий)  \n",
       "4   Не відхиляємо H0 (ефект незначущий)  \n",
       "5        Відхиляємо H0 (ефект значущий)  \n",
       "6        Відхиляємо H0 (ефект значущий)  \n",
       "7   Не відхиляємо H0 (ефект незначущий)  \n",
       "8        Відхиляємо H0 (ефект значущий)  \n",
       "9        Відхиляємо H0 (ефект значущий)  \n",
       "10  Не відхиляємо H0 (ефект незначущий)  \n",
       "11  Не відхиляємо H0 (ефект незначущий)  \n",
       "12  Не відхиляємо H0 (ефект незначущий)  \n",
       "13  Не відхиляємо H0 (ефект незначущий)  \n",
       "14  Не відхиляємо H0 (ефект незначущий)  \n",
       "15       Відхиляємо H0 (ефект значущий)  \n",
       "16       Відхиляємо H0 (ефект значущий)  \n",
       "17  Не відхиляємо H0 (ефект незначущий)  \n",
       "18  Не відхиляємо H0 (ефект незначущий)  \n",
       "19  Не відхиляємо H0 (ефект незначущий)  \n",
       "20       Відхиляємо H0 (ефект значущий)  \n",
       "21       Відхиляємо H0 (ефект значущий)  \n",
       "22  Не відхиляємо H0 (ефект незначущий)  \n",
       "23  Не відхиляємо H0 (ефект незначущий)  \n",
       "24       Відхиляємо H0 (ефект значущий)  \n",
       "25  Не відхиляємо H0 (ефект незначущий)  \n",
       "26  Не відхиляємо H0 (ефект незначущий)  \n",
       "27  Не відхиляємо H0 (ефект незначущий)  "
      ]
     },
     "execution_count": 69,
     "metadata": {},
     "output_type": "execute_result"
    }
   ],
   "source": [
    "df_combined"
   ]
  },
  {
   "cell_type": "code",
   "execution_count": 70,
   "id": "9d4bcb99-b874-44d6-89d3-c5183276b33d",
   "metadata": {
    "execution": {
     "iopub.execute_input": "2025-09-08T08:07:40.027437Z",
     "iopub.status.busy": "2025-09-08T08:07:40.025998Z",
     "iopub.status.idle": "2025-09-08T08:07:40.111409Z",
     "shell.execute_reply": "2025-09-08T08:07:40.109179Z",
     "shell.execute_reply.started": "2025-09-08T08:07:40.027437Z"
    }
   },
   "outputs": [
    {
     "data": {
      "text/plain": [
       "28"
      ]
     },
     "execution_count": 70,
     "metadata": {},
     "output_type": "execute_result"
    }
   ],
   "source": [
    "df_combined.to_sql(\n",
    "    name=\"ab_test_results\",  \n",
    "    con=engine,               \n",
    "    if_exists=\"replace\",     \n",
    "    index=False               \n",
    ")"
   ]
  }
 ],
 "metadata": {
  "jpcodetoc-autonumbering": true,
  "jpcodetoc-showmarkdowntxt": true,
  "kernelspec": {
   "display_name": "Python 3 (ipykernel)",
   "language": "python",
   "name": "python3"
  },
  "language_info": {
   "codemirror_mode": {
    "name": "ipython",
    "version": 3
   },
   "file_extension": ".py",
   "mimetype": "text/x-python",
   "name": "python",
   "nbconvert_exporter": "python",
   "pygments_lexer": "ipython3",
   "version": "3.10.18"
  }
 },
 "nbformat": 4,
 "nbformat_minor": 5
}
